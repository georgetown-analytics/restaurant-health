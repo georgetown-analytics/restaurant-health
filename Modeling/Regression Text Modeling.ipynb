{
 "cells": [
  {
   "cell_type": "code",
   "execution_count": 2,
   "metadata": {
    "collapsed": false
   },
   "outputs": [],
   "source": [
    "%matplotlib inline\n",
    "\n",
    "import os\n",
    "import requests\n",
    "import pandas as pd \n",
    "import matplotlib.pyplot as plt\n",
    "import seaborn as sns\n",
    "import numpy as np\n",
    "import csv\n",
    "import sys\n",
    "\n",
    "from pandas.tools.plotting import scatter_matrix\n",
    "\n",
    "from sklearn import cross_validation as cv\n",
    "from sklearn.cross_validation import train_test_split as tts\n",
    "from sklearn.linear_model import Ridge\n",
    "from sklearn.linear_model import RandomizedLasso\n",
    "from sklearn.linear_model import LinearRegression\n",
    "from sklearn.ensemble import RandomForestRegressor\n",
    "from sklearn.linear_model import Lasso\n",
    "from sklearn.metrics import r2_score\n",
    "from sklearn.metrics import mean_squared_error as mse\n",
    "from sklearn.cross_validation import cross_val_predict\n",
    "from sklearn.preprocessing import PolynomialFeatures\n",
    "from sklearn.pipeline import Pipeline\n",
    "from sklearn.cross_validation import cross_val_score\n",
    "from sklearn.pipeline import FeatureUnion\n",
    "from sklearn import preprocessing\n",
    "from sklearn import linear_model\n",
    "from sklearn.decomposition import PCA\n",
    "from sklearn.covariance import EllipticEnvelope\n",
    "from sklearn.feature_selection import SelectKBest\n",
    "from sklearn.feature_selection import chi2\n",
    "from sklearn.ensemble import IsolationForest\n",
    "from sklearn.preprocessing import FunctionTransformer\n",
    "from scipy import stats\n",
    "from sklearn.linear_model import ElasticNet"
   ]
  },
  {
   "cell_type": "code",
   "execution_count": 3,
   "metadata": {
    "collapsed": true
   },
   "outputs": [],
   "source": [
    "data = pd.read_csv ('pickles.csv')"
   ]
  },
  {
   "cell_type": "code",
   "execution_count": 5,
   "metadata": {
    "collapsed": false
   },
   "outputs": [
    {
     "data": {
      "text/html": [
       "<div>\n",
       "<table border=\"1\" class=\"dataframe\">\n",
       "  <thead>\n",
       "    <tr style=\"text-align: right;\">\n",
       "      <th></th>\n",
       "      <th>Unnamed: 0</th>\n",
       "      <th>_id</th>\n",
       "      <th>restaurant_name</th>\n",
       "      <th>address_full</th>\n",
       "      <th>business_id</th>\n",
       "      <th>review_count</th>\n",
       "      <th>inspection_date</th>\n",
       "      <th>stars</th>\n",
       "      <th>latitude</th>\n",
       "      <th>longitude</th>\n",
       "      <th>...</th>\n",
       "      <th>neighborhood4</th>\n",
       "      <th>neighborhood5</th>\n",
       "      <th>neighborhood6</th>\n",
       "      <th>PreviousViolations</th>\n",
       "      <th>DiffPreviousTwo</th>\n",
       "      <th>from_date</th>\n",
       "      <th>thru_date</th>\n",
       "      <th>violations_y</th>\n",
       "      <th>string_agg</th>\n",
       "      <th>predictions</th>\n",
       "    </tr>\n",
       "  </thead>\n",
       "  <tbody>\n",
       "    <tr>\n",
       "      <th>0</th>\n",
       "      <td>0</td>\n",
       "      <td>ObjectId(5830680bf3f071f6de30b1d0)</td>\n",
       "      <td>GRASSHOPPER VEGETARIAN</td>\n",
       "      <td>1 N Beacon ST Allston 02134</td>\n",
       "      <td>MiOurH3MHs6CwA6iOWehOQ</td>\n",
       "      <td>424</td>\n",
       "      <td>2009-07-13</td>\n",
       "      <td>4.0</td>\n",
       "      <td>42.35377</td>\n",
       "      <td>-71.137418</td>\n",
       "      <td>...</td>\n",
       "      <td>0</td>\n",
       "      <td>0</td>\n",
       "      <td>0</td>\n",
       "      <td>8</td>\n",
       "      <td>0</td>\n",
       "      <td>2008-08-18</td>\n",
       "      <td>2009-07-12</td>\n",
       "      <td>8.0</td>\n",
       "      <td>I was VERY skeptical about ever trying Grassho...</td>\n",
       "      <td>25</td>\n",
       "    </tr>\n",
       "    <tr>\n",
       "      <th>1</th>\n",
       "      <td>1</td>\n",
       "      <td>ObjectId(5830680bf3f071f6de30b1d0)</td>\n",
       "      <td>GRASSHOPPER VEGETARIAN</td>\n",
       "      <td>1 N Beacon ST Allston 02134</td>\n",
       "      <td>MiOurH3MHs6CwA6iOWehOQ</td>\n",
       "      <td>424</td>\n",
       "      <td>2009-07-27</td>\n",
       "      <td>4.0</td>\n",
       "      <td>42.35377</td>\n",
       "      <td>-71.137418</td>\n",
       "      <td>...</td>\n",
       "      <td>0</td>\n",
       "      <td>0</td>\n",
       "      <td>0</td>\n",
       "      <td>4</td>\n",
       "      <td>0</td>\n",
       "      <td>2009-07-13</td>\n",
       "      <td>2009-07-26</td>\n",
       "      <td>4.0</td>\n",
       "      <td>I had a delicious lo mien beef. Large portion,...</td>\n",
       "      <td>25</td>\n",
       "    </tr>\n",
       "    <tr>\n",
       "      <th>2</th>\n",
       "      <td>2</td>\n",
       "      <td>ObjectId(5830680bf3f071f6de30b1d0)</td>\n",
       "      <td>GRASSHOPPER VEGETARIAN</td>\n",
       "      <td>1 N Beacon ST Allston 02134</td>\n",
       "      <td>MiOurH3MHs6CwA6iOWehOQ</td>\n",
       "      <td>424</td>\n",
       "      <td>2010-06-03</td>\n",
       "      <td>4.0</td>\n",
       "      <td>42.35377</td>\n",
       "      <td>-71.137418</td>\n",
       "      <td>...</td>\n",
       "      <td>0</td>\n",
       "      <td>0</td>\n",
       "      <td>0</td>\n",
       "      <td>4</td>\n",
       "      <td>0</td>\n",
       "      <td>2009-07-27</td>\n",
       "      <td>2010-06-02</td>\n",
       "      <td>4.0</td>\n",
       "      <td>Great spot.  It was very crowded, the menu is ...</td>\n",
       "      <td>20</td>\n",
       "    </tr>\n",
       "    <tr>\n",
       "      <th>3</th>\n",
       "      <td>3</td>\n",
       "      <td>ObjectId(5830680bf3f071f6de30b1d0)</td>\n",
       "      <td>GRASSHOPPER VEGETARIAN</td>\n",
       "      <td>1 N Beacon ST Allston 02134</td>\n",
       "      <td>MiOurH3MHs6CwA6iOWehOQ</td>\n",
       "      <td>424</td>\n",
       "      <td>2011-03-08</td>\n",
       "      <td>4.0</td>\n",
       "      <td>42.35377</td>\n",
       "      <td>-71.137418</td>\n",
       "      <td>...</td>\n",
       "      <td>0</td>\n",
       "      <td>0</td>\n",
       "      <td>0</td>\n",
       "      <td>12</td>\n",
       "      <td>0</td>\n",
       "      <td>2010-06-04</td>\n",
       "      <td>2011-03-07</td>\n",
       "      <td>12.0</td>\n",
       "      <td>Great service and generous portion sizes for l...</td>\n",
       "      <td>10</td>\n",
       "    </tr>\n",
       "    <tr>\n",
       "      <th>4</th>\n",
       "      <td>4</td>\n",
       "      <td>ObjectId(5830680bf3f071f6de30b1d0)</td>\n",
       "      <td>GRASSHOPPER VEGETARIAN</td>\n",
       "      <td>1 N Beacon ST Allston 02134</td>\n",
       "      <td>MiOurH3MHs6CwA6iOWehOQ</td>\n",
       "      <td>424</td>\n",
       "      <td>2011-06-16</td>\n",
       "      <td>4.0</td>\n",
       "      <td>42.35377</td>\n",
       "      <td>-71.137418</td>\n",
       "      <td>...</td>\n",
       "      <td>0</td>\n",
       "      <td>0</td>\n",
       "      <td>0</td>\n",
       "      <td>1</td>\n",
       "      <td>0</td>\n",
       "      <td>2011-03-08</td>\n",
       "      <td>2011-06-15</td>\n",
       "      <td>1.0</td>\n",
       "      <td>I've been going to Grasshopper for years.\\n\\nV...</td>\n",
       "      <td>25</td>\n",
       "    </tr>\n",
       "  </tbody>\n",
       "</table>\n",
       "<p>5 rows × 74 columns</p>\n",
       "</div>"
      ],
      "text/plain": [
       "   Unnamed: 0                                 _id         restaurant_name  \\\n",
       "0           0  ObjectId(5830680bf3f071f6de30b1d0)  GRASSHOPPER VEGETARIAN   \n",
       "1           1  ObjectId(5830680bf3f071f6de30b1d0)  GRASSHOPPER VEGETARIAN   \n",
       "2           2  ObjectId(5830680bf3f071f6de30b1d0)  GRASSHOPPER VEGETARIAN   \n",
       "3           3  ObjectId(5830680bf3f071f6de30b1d0)  GRASSHOPPER VEGETARIAN   \n",
       "4           4  ObjectId(5830680bf3f071f6de30b1d0)  GRASSHOPPER VEGETARIAN   \n",
       "\n",
       "                  address_full             business_id  review_count  \\\n",
       "0  1 N Beacon ST Allston 02134  MiOurH3MHs6CwA6iOWehOQ           424   \n",
       "1  1 N Beacon ST Allston 02134  MiOurH3MHs6CwA6iOWehOQ           424   \n",
       "2  1 N Beacon ST Allston 02134  MiOurH3MHs6CwA6iOWehOQ           424   \n",
       "3  1 N Beacon ST Allston 02134  MiOurH3MHs6CwA6iOWehOQ           424   \n",
       "4  1 N Beacon ST Allston 02134  MiOurH3MHs6CwA6iOWehOQ           424   \n",
       "\n",
       "  inspection_date  stars  latitude  longitude     ...       neighborhood4  \\\n",
       "0      2009-07-13    4.0  42.35377 -71.137418     ...                   0   \n",
       "1      2009-07-27    4.0  42.35377 -71.137418     ...                   0   \n",
       "2      2010-06-03    4.0  42.35377 -71.137418     ...                   0   \n",
       "3      2011-03-08    4.0  42.35377 -71.137418     ...                   0   \n",
       "4      2011-06-16    4.0  42.35377 -71.137418     ...                   0   \n",
       "\n",
       "   neighborhood5  neighborhood6  PreviousViolations  DiffPreviousTwo  \\\n",
       "0              0              0                   8                0   \n",
       "1              0              0                   4                0   \n",
       "2              0              0                   4                0   \n",
       "3              0              0                  12                0   \n",
       "4              0              0                   1                0   \n",
       "\n",
       "    from_date   thru_date  violations_y  \\\n",
       "0  2008-08-18  2009-07-12           8.0   \n",
       "1  2009-07-13  2009-07-26           4.0   \n",
       "2  2009-07-27  2010-06-02           4.0   \n",
       "3  2010-06-04  2011-03-07          12.0   \n",
       "4  2011-03-08  2011-06-15           1.0   \n",
       "\n",
       "                                          string_agg  predictions  \n",
       "0  I was VERY skeptical about ever trying Grassho...           25  \n",
       "1  I had a delicious lo mien beef. Large portion,...           25  \n",
       "2  Great spot.  It was very crowded, the menu is ...           20  \n",
       "3  Great service and generous portion sizes for l...           10  \n",
       "4  I've been going to Grasshopper for years.\\n\\nV...           25  \n",
       "\n",
       "[5 rows x 74 columns]"
      ]
     },
     "execution_count": 5,
     "metadata": {},
     "output_type": "execute_result"
    }
   ],
   "source": [
    "data.head()"
   ]
  },
  {
   "cell_type": "code",
   "execution_count": 6,
   "metadata": {
    "collapsed": false
   },
   "outputs": [
    {
     "data": {
      "text/plain": [
       "(18879, 74)"
      ]
     },
     "execution_count": 6,
     "metadata": {},
     "output_type": "execute_result"
    }
   ],
   "source": [
    "#scaling continuous independent variables, with mean zero\n",
    "sdf = data.copy()\n",
    "scaled = np.array(sdf[['review_count', 'stars', 'pricerange', 'PreviousViolations', 'DiffPreviousTwo', 'predictions']])\n",
    "scaled = preprocessing.scale(scaled)\n",
    "# scaled.shape\n",
    "final = pd.DataFrame(data = scaled,\n",
    "                     columns =['review_count', 'stars', 'pricerange', 'PreviousViolations', 'DiffPreviousTwo', 'predictions'])\n",
    "\n",
    "delist = ['review_count', 'stars', 'pricerange', 'PreviousViolations', 'DiffPreviousTwo', 'predictions']\n",
    "ndf = data.copy()\n",
    "for i in delist:\n",
    "    del ndf[i]\n",
    "# ndf.shape\n",
    "df = pd.concat([final, ndf], axis=1)\n",
    "\n",
    "df.shape"
   ]
  },
  {
   "cell_type": "code",
   "execution_count": 7,
   "metadata": {
    "collapsed": false
   },
   "outputs": [
    {
     "name": "stdout",
     "output_type": "stream",
     "text": [
      "(18879,) (18879, 58)\n"
     ]
    }
   ],
   "source": [
    "variables = df[['PreviousViolations','DiffPreviousTwo','IsAsian','IsFrench','IsSandwiches',\n",
    "                 'IsFastFood','IsBurgers','IsItalian','IsHawaiian','IsSouthern','IsMexican','IsLatinAmerican','IsMiddleEastern',\n",
    "                 'IsGreek','IsAmerican','IsDonuts','IsIndian','IsSeafood','IsDesserts','IsSalad','Pizza','IsBuffets',\n",
    "                 'IsSushiBars','IsDelis','IsSports Bars','IsBakeries','IsPubs','IsCaterers','IsDiners','IsCafes','IsBars',\n",
    "                 'alcohol','delivery','dogsallowed','smoking','goodforkids','outdoorseating','waiterservice','creditcards',\n",
    "                 'pricerange','drivethru','tourist','classy','hipster','latenight','upscale','divey','Boston','Charlotte',\n",
    "                 'LasVegas','neighborhood0','neighborhood1','neighborhood2','neighborhood3','neighborhood4','neighborhood5',\n",
    "                 'neighborhood6', 'predictions']]\n",
    "target = df['violations_y']\n",
    "variables.shape\n",
    "print(target.shape, variables.shape)"
   ]
  },
  {
   "cell_type": "code",
   "execution_count": 8,
   "metadata": {
    "collapsed": true
   },
   "outputs": [],
   "source": [
    "#Train test splits\n",
    "splits = cv.train_test_split(variables, target, test_size=0.083)\n",
    "X_train, X_test, y_train, y_test = splits"
   ]
  },
  {
   "cell_type": "code",
   "execution_count": 9,
   "metadata": {
    "collapsed": false
   },
   "outputs": [
    {
     "name": "stdout",
     "output_type": "stream",
     "text": [
      "Linear Regression model\n",
      "Mean Squared Error: 17.194\n",
      "Coefficient of Determination: 0.719\n"
     ]
    },
    {
     "data": {
      "image/png": "[encoded data removed]",
      "text/plain": [
       "<matplotlib.figure.Figure at 0x109fa7c18>"
      ]
     },
     "metadata": {},
     "output_type": "display_data"
    }
   ],
   "source": [
    "#Linear Regression\n",
    "model = LinearRegression()\n",
    "model.fit(X_train, y_train)\n",
    "\n",
    "expected = y_test\n",
    "predict = model.predict(X_test)\n",
    "\n",
    "print(\"Linear Regression model\")\n",
    "print(\"Mean Squared Error: %0.3f\" % mse(expected, predict))\n",
    "print(\"Coefficient of Determination: %0.3f\" % r2_score(expected, predict))\n",
    "\n",
    "# cross_val_predict returns an array of size target with cross validated predictions\n",
    "predicted = cross_val_predict(model, variables, target, cv=12)\n",
    "\n",
    "#Plot measured vs. predicted values\n",
    "fig, ax = plt.subplots()\n",
    "ax.scatter(target, predicted)\n",
    "ax.plot([target.min(), target.max()], [target.min(), target.max()], 'k--', lw=4)\n",
    "ax.set_xlabel('Measured')\n",
    "ax.set_ylabel('Predicted')\n",
    "plt.title('Linear Regression')\n",
    "plt.show()"
   ]
  },
  {
   "cell_type": "code",
   "execution_count": 10,
   "metadata": {
    "collapsed": false
   },
   "outputs": [
    {
     "data": {
      "text/plain": [
       "(18759, 74)"
      ]
     },
     "execution_count": 10,
     "metadata": {},
     "output_type": "execute_result"
    }
   ],
   "source": [
    "# #Remove outliers that have high violation (> 4 standard deviations)\n",
    "o = data.copy()\n",
    "odf = o[((o.violations_y - o.violations_y.mean()) / o.violations_y.std()).abs() < 4]\n",
    "odf.shape"
   ]
  },
  {
   "cell_type": "code",
   "execution_count": 11,
   "metadata": {
    "collapsed": false
   },
   "outputs": [
    {
     "name": "stdout",
     "output_type": "stream",
     "text": [
      "variables: (18759, 58) target: (18759,)\n"
     ]
    }
   ],
   "source": [
    "#Select variables and target for cross validation\n",
    "variables = odf[['PreviousViolations','DiffPreviousTwo','IsAsian','IsFrench','IsSandwiches',\n",
    "                 'IsFastFood','IsBurgers','IsItalian','IsHawaiian','IsSouthern','IsMexican','IsLatinAmerican','IsMiddleEastern',\n",
    "                 'IsGreek','IsAmerican','IsDonuts','IsIndian','IsSeafood','IsDesserts','IsSalad','Pizza','IsBuffets',\n",
    "                 'IsSushiBars','IsDelis','IsSports Bars','IsBakeries','IsPubs','IsCaterers','IsDiners','IsCafes','IsBars',\n",
    "                 'alcohol','delivery','dogsallowed','smoking','goodforkids','outdoorseating','waiterservice','creditcards',\n",
    "                 'pricerange','drivethru','tourist','classy','hipster','latenight','upscale','divey','Boston','Charlotte',\n",
    "                 'LasVegas','neighborhood0','neighborhood1','neighborhood2','neighborhood3','neighborhood4','neighborhood5',\n",
    "                 'neighborhood6', 'predictions']]\n",
    "target = odf['violations_y']\n",
    "print('variables:', variables.shape, 'target:', target.shape)"
   ]
  },
  {
   "cell_type": "code",
   "execution_count": 12,
   "metadata": {
    "collapsed": true
   },
   "outputs": [],
   "source": [
    "#Train test splits\n",
    "splits = cv.train_test_split(variables, target, test_size=0.83)\n",
    "X_train, X_test, y_train, y_test = splits"
   ]
  },
  {
   "cell_type": "code",
   "execution_count": 13,
   "metadata": {
    "collapsed": false
   },
   "outputs": [
    {
     "name": "stdout",
     "output_type": "stream",
     "text": [
      "Linear Regression model\n",
      "Mean Squared Error: 6.169\n",
      "Coefficient of Determination: 0.768\n"
     ]
    },
    {
     "data": {
      "image/png": "[encoded data removed]",
      "text/plain": [
       "<matplotlib.figure.Figure at 0x1294e3748>"
      ]
     },
     "metadata": {},
     "output_type": "display_data"
    }
   ],
   "source": [
    "#Linear Regression\n",
    "model = LinearRegression()\n",
    "model.fit(X_train, y_train)\n",
    "\n",
    "expected = y_test\n",
    "predict = model.predict(X_test)\n",
    "\n",
    "print(\"Linear Regression model\")\n",
    "print(\"Mean Squared Error: %0.3f\" % mse(expected, predict))\n",
    "print(\"Coefficient of Determination: %0.3f\" % r2_score(expected, predict))\n",
    "\n",
    "# cross_val_predict returns an array of the size target with cross validated predictions\n",
    "predicted = cross_val_predict(model, variables, target, cv=12)\n",
    "\n",
    "#Plot measured vs. predicted values\n",
    "fig, ax = plt.subplots()\n",
    "ax.scatter(target, predicted)\n",
    "ax.plot([target.min(), target.max()], [target.min(), target.max()], 'k--', lw=4)\n",
    "ax.set_xlabel('Measured')\n",
    "ax.set_ylabel('Predicted')\n",
    "plt.title('Linear Regression Outliers Removed')\n",
    "plt.show()"
   ]
  },
  {
   "cell_type": "code",
   "execution_count": 14,
   "metadata": {
    "collapsed": false
   },
   "outputs": [
    {
     "name": "stdout",
     "output_type": "stream",
     "text": [
      "Random Forest model\n",
      "Mean squared error = 6.326\n",
      "R2 score = 0.762\n"
     ]
    },
    {
     "data": {
      "image/png": "[encoded data removed]",
      "text/plain": [
       "<matplotlib.figure.Figure at 0x11eee6780>"
      ]
     },
     "metadata": {},
     "output_type": "display_data"
    }
   ],
   "source": [
    "model = ElasticNet()\n",
    "model.fit(X_train, y_train)\n",
    "\n",
    "expected = y_test\n",
    "predict = model.predict(X_test)\n",
    "\n",
    "print(\"Random Forest model\")\n",
    "print(\"Mean squared error = %0.3f\" % mse(expected, predict))\n",
    "print(\"R2 score = %0.3f\" % r2_score(expected, predict))\n",
    "\n",
    "# cross_val_predict returns an array of the size target with cross validated predictions\n",
    "predicted = cross_val_predict(model, variables, target, cv=10)\n",
    "\n",
    "fig, ax = plt.subplots()\n",
    "ax.scatter(target, predicted)\n",
    "ax.plot([target.min(), target.max()], [target.min(), target.max()], 'k--', lw=4)\n",
    "ax.set_xlabel('Measured')\n",
    "ax.set_ylabel('Predicted')\n",
    "plt.title('Elastic Net')\n",
    "plt.show()"
   ]
  },
  {
   "cell_type": "code",
   "execution_count": 15,
   "metadata": {
    "collapsed": false
   },
   "outputs": [
    {
     "name": "stdout",
     "output_type": "stream",
     "text": [
      "Random Forest model\n",
      "Mean squared error = 5.543\n",
      "R2 score = 0.792\n"
     ]
    },
    {
     "data": {
      "image/png": "[encoded data removed]",
      "text/plain": [
       "<matplotlib.figure.Figure at 0x11eee6080>"
      ]
     },
     "metadata": {},
     "output_type": "display_data"
    }
   ],
   "source": [
    "model = RandomForestRegressor()\n",
    "model.fit(X_train, y_train)\n",
    "\n",
    "expected = y_test\n",
    "predict = model.predict(X_test)\n",
    "\n",
    "print(\"Random Forest model\")\n",
    "print(\"Mean squared error = %0.3f\" % mse(expected, predict))\n",
    "print(\"R2 score = %0.3f\" % r2_score(expected, predict))\n",
    "\n",
    "# cross_val_predict returns an array of the size target with cross validated predictions\n",
    "predicted = cross_val_predict(model, variables, target, cv=12)\n",
    "\n",
    "fig, ax = plt.subplots()\n",
    "ax.scatter(target, predicted)\n",
    "ax.plot([target.min(), target.max()], [target.min(), target.max()], 'k--', lw=4)\n",
    "ax.set_xlabel('Measured')\n",
    "ax.set_ylabel('Predicted')\n",
    "plt.title('Random Forest Regression with Text')\n",
    "plt.show()"
   ]
  }
 ],
 "metadata": {
  "anaconda-cloud": {},
  "kernelspec": {
   "display_name": "Python [Root]",
   "language": "python",
   "name": "Python [Root]"
  },
  "language_info": {
   "codemirror_mode": {
    "name": "ipython",
    "version": 3
   },
   "file_extension": ".py",
   "mimetype": "text/x-python",
   "name": "python",
   "nbconvert_exporter": "python",
   "pygments_lexer": "ipython3",
   "version": "3.5.2"
  }
 },
 "nbformat": 4,
 "nbformat_minor": 1
}
