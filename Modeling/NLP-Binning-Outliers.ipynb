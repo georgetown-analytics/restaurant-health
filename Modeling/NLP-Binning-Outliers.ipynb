{
 "cells": [
  {
   "cell_type": "markdown",
   "metadata": {},
   "source": [
    "# Natural Language Processing"
   ]
  },
  {
   "cell_type": "code",
   "execution_count": 1,
   "metadata": {
    "collapsed": false
   },
   "outputs": [],
   "source": [
    "import os\n",
    "import requests\n",
    "import pandas as pd \n",
    "import numpy as np\n",
    "import csv\n",
    "import sys\n",
    "\n",
    "csv.field_size_limit(sys.maxsize)\n",
    "\n",
    "reviews = \"/Users/skhederian/restaurant-health/format_reviews.csv\"\n",
    "data = \"/Users/skhederian/restaurant-health/the_final_countdown.csv\"\n",
    "\n",
    "dfr = pd.read_csv(reviews)\n",
    "dfd = pd.read_csv(data)"
   ]
  },
  {
   "cell_type": "code",
   "execution_count": 2,
   "metadata": {
    "collapsed": false
   },
   "outputs": [
    {
     "data": {
      "text/plain": [
       "(20377, 5)"
      ]
     },
     "execution_count": 2,
     "metadata": {},
     "output_type": "execute_result"
    }
   ],
   "source": [
    "#Drop NaN Violations\n",
    "dfreview = dfr.dropna(how = 'any').copy()\n",
    "dfreview.shape"
   ]
  },
  {
   "cell_type": "code",
   "execution_count": 3,
   "metadata": {
    "collapsed": false
   },
   "outputs": [
    {
     "data": {
      "text/plain": [
       "(20248, 5)"
      ]
     },
     "execution_count": 3,
     "metadata": {},
     "output_type": "execute_result"
    }
   ],
   "source": [
    "#Remove outliers that have high violation (> 4 standard deviations)\n",
    "o = dfreview.copy()\n",
    "odf = o[((o.violations - o.violations.mean()) / o.violations.std()).abs() < 4]\n",
    "odf.shape"
   ]
  },
  {
   "cell_type": "code",
   "execution_count": 4,
   "metadata": {
    "collapsed": false
   },
   "outputs": [
    {
     "name": "stderr",
     "output_type": "stream",
     "text": [
      "//anaconda/lib/python3.5/site-packages/ipykernel/__main__.py:5: SettingWithCopyWarning: \n",
      "A value is trying to be set on a copy of a slice from a DataFrame.\n",
      "Try using .loc[row_indexer,col_indexer] = value instead\n",
      "\n",
      "See the caveats in the documentation: http://pandas.pydata.org/pandas-docs/stable/indexing.html#indexing-view-versus-copy\n"
     ]
    },
    {
     "data": {
      "text/plain": [
       "(20248, 6)"
      ]
     },
     "execution_count": 4,
     "metadata": {},
     "output_type": "execute_result"
    }
   ],
   "source": [
    "#Create bins for violation counts\n",
    "bins = [-1, 5, 10, 15, 20, 25, 30, 35, 40]\n",
    "group_names = ['Perfect', 'Excellent', 'Great', 'Good', 'Bad', 'Very Bad', 'rats', 'Shutdown']\n",
    "\n",
    "odf['violationoutcat'] = pd.cut(odf['violations'], bins, labels=group_names)\n",
    "odf.head()\n",
    "odf.shape"
   ]
  },
  {
   "cell_type": "code",
   "execution_count": 5,
   "metadata": {
    "collapsed": false
   },
   "outputs": [
    {
     "data": {
      "text/plain": [
       "<20248x114008 sparse matrix of type '<class 'numpy.int64'>'\n",
       "\twith 7645234 stored elements in Compressed Sparse Row format>"
      ]
     },
     "execution_count": 5,
     "metadata": {},
     "output_type": "execute_result"
    }
   ],
   "source": [
    "from sklearn.feature_extraction.text import CountVectorizer\n",
    "\n",
    "cv = CountVectorizer()\n",
    "counts = cv.fit_transform(odf['string_agg'].values)\n",
    "counts"
   ]
  },
  {
   "cell_type": "code",
   "execution_count": 6,
   "metadata": {
    "collapsed": false
   },
   "outputs": [
    {
     "data": {
      "text/plain": [
       "MultinomialNB(alpha=1.0, class_prior=None, fit_prior=True)"
      ]
     },
     "execution_count": 6,
     "metadata": {},
     "output_type": "execute_result"
    }
   ],
   "source": [
    "from sklearn.naive_bayes import MultinomialNB\n",
    "classifier = MultinomialNB()\n",
    "\n",
    "targetout = odf.violationoutcat.values\n",
    "classifier.fit(counts, targetout)"
   ]
  },
  {
   "cell_type": "code",
   "execution_count": 7,
   "metadata": {
    "collapsed": false
   },
   "outputs": [],
   "source": [
    "from sklearn.pipeline import Pipeline\n",
    "\n",
    "pipeline = Pipeline([\n",
    "    ('vectorizer',  cv),\n",
    "    ('classifier',  classifier)])"
   ]
  },
  {
   "cell_type": "code",
   "execution_count": 8,
   "metadata": {
    "collapsed": false
   },
   "outputs": [
    {
     "name": "stderr",
     "output_type": "stream",
     "text": [
      "//anaconda/lib/python3.5/site-packages/sklearn/cross_validation.py:44: DeprecationWarning: This module was deprecated in version 0.18 in favor of the model_selection module into which all the refactored classes and functions are moved. Also note that the interface of the new CV iterators are different from that of this module. This module will be removed in 0.20.\n",
      "  \"This module will be removed in 0.20.\", DeprecationWarning)\n",
      "//anaconda/lib/python3.5/site-packages/sklearn/metrics/classification.py:1113: UndefinedMetricWarning: F-score is ill-defined and being set to 0.0 in labels with no predicted samples.\n",
      "  'precision', 'predicted', average, warn_for)\n",
      "//anaconda/lib/python3.5/site-packages/sklearn/metrics/classification.py:1113: UndefinedMetricWarning: Precision is ill-defined and being set to 0.0 in labels with no predicted samples.\n",
      "  'precision', 'predicted', average, warn_for)\n",
      "//anaconda/lib/python3.5/site-packages/sklearn/metrics/classification.py:1113: UndefinedMetricWarning: F-score is ill-defined and being set to 0.0 in labels with no predicted samples.\n",
      "  'precision', 'predicted', average, warn_for)\n",
      "//anaconda/lib/python3.5/site-packages/sklearn/metrics/classification.py:1113: UndefinedMetricWarning: Precision is ill-defined and being set to 0.0 in labels with no predicted samples.\n",
      "  'precision', 'predicted', average, warn_for)\n",
      "//anaconda/lib/python3.5/site-packages/sklearn/metrics/classification.py:1113: UndefinedMetricWarning: F-score is ill-defined and being set to 0.0 in labels with no predicted samples.\n",
      "  'precision', 'predicted', average, warn_for)\n",
      "//anaconda/lib/python3.5/site-packages/sklearn/metrics/classification.py:1113: UndefinedMetricWarning: Precision is ill-defined and being set to 0.0 in labels with no predicted samples.\n",
      "  'precision', 'predicted', average, warn_for)\n",
      "//anaconda/lib/python3.5/site-packages/sklearn/metrics/classification.py:1113: UndefinedMetricWarning: F-score is ill-defined and being set to 0.0 in labels with no predicted samples.\n",
      "  'precision', 'predicted', average, warn_for)\n",
      "//anaconda/lib/python3.5/site-packages/sklearn/metrics/classification.py:1113: UndefinedMetricWarning: Precision is ill-defined and being set to 0.0 in labels with no predicted samples.\n",
      "  'precision', 'predicted', average, warn_for)\n",
      "//anaconda/lib/python3.5/site-packages/sklearn/metrics/classification.py:1113: UndefinedMetricWarning: F-score is ill-defined and being set to 0.0 in labels with no predicted samples.\n",
      "  'precision', 'predicted', average, warn_for)\n",
      "//anaconda/lib/python3.5/site-packages/sklearn/metrics/classification.py:1113: UndefinedMetricWarning: Precision is ill-defined and being set to 0.0 in labels with no predicted samples.\n",
      "  'precision', 'predicted', average, warn_for)\n",
      "//anaconda/lib/python3.5/site-packages/sklearn/metrics/classification.py:1113: UndefinedMetricWarning: F-score is ill-defined and being set to 0.0 in labels with no predicted samples.\n",
      "  'precision', 'predicted', average, warn_for)\n",
      "//anaconda/lib/python3.5/site-packages/sklearn/metrics/classification.py:1113: UndefinedMetricWarning: Precision is ill-defined and being set to 0.0 in labels with no predicted samples.\n",
      "  'precision', 'predicted', average, warn_for)\n",
      "//anaconda/lib/python3.5/site-packages/sklearn/metrics/classification.py:1113: UndefinedMetricWarning: F-score is ill-defined and being set to 0.0 in labels with no predicted samples.\n",
      "  'precision', 'predicted', average, warn_for)\n",
      "//anaconda/lib/python3.5/site-packages/sklearn/metrics/classification.py:1113: UndefinedMetricWarning: Precision is ill-defined and being set to 0.0 in labels with no predicted samples.\n",
      "  'precision', 'predicted', average, warn_for)\n",
      "//anaconda/lib/python3.5/site-packages/sklearn/metrics/classification.py:1113: UndefinedMetricWarning: F-score is ill-defined and being set to 0.0 in labels with no predicted samples.\n",
      "  'precision', 'predicted', average, warn_for)\n",
      "//anaconda/lib/python3.5/site-packages/sklearn/metrics/classification.py:1113: UndefinedMetricWarning: Precision is ill-defined and being set to 0.0 in labels with no predicted samples.\n",
      "  'precision', 'predicted', average, warn_for)\n",
      "//anaconda/lib/python3.5/site-packages/sklearn/metrics/classification.py:1113: UndefinedMetricWarning: F-score is ill-defined and being set to 0.0 in labels with no predicted samples.\n",
      "  'precision', 'predicted', average, warn_for)\n",
      "//anaconda/lib/python3.5/site-packages/sklearn/metrics/classification.py:1113: UndefinedMetricWarning: Precision is ill-defined and being set to 0.0 in labels with no predicted samples.\n",
      "  'precision', 'predicted', average, warn_for)\n",
      "//anaconda/lib/python3.5/site-packages/sklearn/metrics/classification.py:1113: UndefinedMetricWarning: F-score is ill-defined and being set to 0.0 in labels with no predicted samples.\n",
      "  'precision', 'predicted', average, warn_for)\n",
      "//anaconda/lib/python3.5/site-packages/sklearn/metrics/classification.py:1113: UndefinedMetricWarning: Precision is ill-defined and being set to 0.0 in labels with no predicted samples.\n",
      "  'precision', 'predicted', average, warn_for)\n",
      "//anaconda/lib/python3.5/site-packages/sklearn/metrics/classification.py:1113: UndefinedMetricWarning: F-score is ill-defined and being set to 0.0 in labels with no predicted samples.\n",
      "  'precision', 'predicted', average, warn_for)\n",
      "//anaconda/lib/python3.5/site-packages/sklearn/metrics/classification.py:1113: UndefinedMetricWarning: Precision is ill-defined and being set to 0.0 in labels with no predicted samples.\n",
      "  'precision', 'predicted', average, warn_for)\n",
      "//anaconda/lib/python3.5/site-packages/sklearn/metrics/classification.py:1113: UndefinedMetricWarning: F-score is ill-defined and being set to 0.0 in labels with no predicted samples.\n",
      "  'precision', 'predicted', average, warn_for)\n",
      "//anaconda/lib/python3.5/site-packages/sklearn/metrics/classification.py:1113: UndefinedMetricWarning: Precision is ill-defined and being set to 0.0 in labels with no predicted samples.\n",
      "  'precision', 'predicted', average, warn_for)\n"
     ]
    }
   ],
   "source": [
    "from sklearn.cross_validation import KFold\n",
    "from sklearn.metrics import f1_score, accuracy_score, precision_score, recall_score\n",
    "\n",
    "\n",
    "k_fold = KFold(n=len(odf), n_folds=12)\n",
    "f1scores = []\n",
    "ascores = []\n",
    "rscores = []\n",
    "pscores = []\n",
    "\n",
    "for train_indices, test_indices in k_fold:\n",
    "    train_text = odf.iloc[train_indices]['string_agg'].values\n",
    "    train_y = odf.iloc[train_indices]['violationoutcat'].values\n",
    "\n",
    "    test_text = odf.iloc[test_indices]['string_agg'].values\n",
    "    test_y = odf.iloc[test_indices]['violationoutcat'].values\n",
    "\n",
    "    pipeline.fit(train_text, train_y)\n",
    "    predictions = pipeline.predict(test_text)\n",
    "\n",
    "    #scores\n",
    "    f1score = f1_score(test_y, predictions, average='weighted')\n",
    "    f1scores.append(f1score)\n",
    "    accuracy = accuracy_score(test_y, predictions)\n",
    "    ascores.append(accuracy)\n",
    "    recall = recall_score(test_y, predictions, average='weighted')\n",
    "    rscores.append(recall)\n",
    "    precision = precision_score(test_y, predictions, average='weighted')\n",
    "    pscores.append(precision)"
   ]
  },
  {
   "cell_type": "code",
   "execution_count": 9,
   "metadata": {
    "collapsed": false
   },
   "outputs": [
    {
     "name": "stdout",
     "output_type": "stream",
     "text": [
      "Total reviews classified: 20248\n",
      "F1 Score: 0.494298051694\n",
      "Accuracy: 0.521337724781\n",
      "Recall: 0.521337724781\n",
      "Precision: 0.481683076583\n"
     ]
    }
   ],
   "source": [
    "print('Total reviews classified:', len(odf))\n",
    "print('F1 Score:', sum(f1scores)/len(f1scores))\n",
    "print ('Accuracy:', sum(ascores)/len(ascores))\n",
    "print ('Recall:', sum(rscores)/len(rscores))\n",
    "print ('Precision:', sum(pscores)/len(pscores))"
   ]
  },
  {
   "cell_type": "code",
   "execution_count": 10,
   "metadata": {
    "collapsed": false
   },
   "outputs": [
    {
     "data": {
      "text/plain": [
       "['class.pkl']"
      ]
     },
     "execution_count": 10,
     "metadata": {},
     "output_type": "execute_result"
    }
   ],
   "source": [
    "#Create a Pickle\n",
    "from sklearn.externals import joblib\n",
    "\n",
    "joblib.dump(pipeline, 'class.pkl', compress=9)"
   ]
  },
  {
   "cell_type": "markdown",
   "metadata": {},
   "source": [
    "# Text Features"
   ]
  },
  {
   "cell_type": "code",
   "execution_count": 11,
   "metadata": {
    "collapsed": false
   },
   "outputs": [],
   "source": [
    "from sklearn.feature_extraction.text import CountVectorizer\n",
    "\n",
    "cv = CountVectorizer(analyzer='word', ngram_range=(1,3), min_df = .25, stop_words = 'english')\n",
    "counts = cv.fit_transform(odf['string_agg'].values)"
   ]
  },
  {
   "cell_type": "code",
   "execution_count": 12,
   "metadata": {
    "collapsed": false
   },
   "outputs": [],
   "source": [
    "def most_informative_feature_for_class(cv, classifier, classlabel, n=30):\n",
    "    labelid = list(classifier.classes_).index(classlabel)\n",
    "    feature_names = cv.get_feature_names()\n",
    "    topn = sorted(zip(classifier.coef_[labelid], feature_names)) [-n:]\n",
    "    \n",
    "    for coef, feat in topn:\n",
    "        print (classlabel, feat, coef)"
   ]
  },
  {
   "cell_type": "code",
   "execution_count": 13,
   "metadata": {
    "collapsed": false
   },
   "outputs": [
    {
     "name": "stdout",
     "output_type": "stream",
     "text": [
      "Perfect new -15.0071462471\n",
      "Perfect perfect -15.0071462471\n",
      "Perfect restaurant -15.0071462471\n",
      "Perfect taste -15.0071462471\n",
      "Perfect wait -15.0071462471\n",
      "Perfect flavor -14.7840026958\n",
      "Perfect people -14.7840026958\n",
      "Perfect review -14.7840026958\n",
      "Perfect large -14.601681139\n",
      "Perfect time -14.601681139\n",
      "Perfect want -14.3139990665\n",
      "Perfect menu -14.0908555152\n",
      "Perfect day -13.9955453354\n",
      "Perfect came -13.620851886\n",
      "Perfect minutes -13.3977083346\n",
      "Perfect left -13.0261447782\n",
      "Perfect ok -12.9594534037\n",
      "Perfect especially -12.9277047054\n",
      "Perfect just -12.8969330467\n",
      "Perfect far -12.8670800836\n",
      "Perfect quite -12.5222395973\n",
      "Perfect place -12.4616149755\n",
      "Perfect close -12.089375515\n",
      "Perfect long -12.0496351863\n",
      "Perfect thought -11.8936309379\n",
      "Perfect actually -11.8501458259\n",
      "Perfect decent -11.3371948029\n",
      "Perfect think -9.31678679276\n",
      "Perfect 10 -8.94103815698\n",
      "Perfect things -7.34703192791\n"
     ]
    }
   ],
   "source": [
    "most_informative_feature_for_class(cv, classifier, 'Perfect')"
   ]
  },
  {
   "cell_type": "code",
   "execution_count": 15,
   "metadata": {
    "collapsed": false
   },
   "outputs": [
    {
     "name": "stdout",
     "output_type": "stream",
     "text": [
      "Shutdown table -11.680040317\n",
      "Shutdown taste -11.680040317\n",
      "Shutdown tasted -11.680040317\n",
      "Shutdown tasty -11.680040317\n",
      "Shutdown thing -11.680040317\n",
      "Shutdown think -11.680040317\n",
      "Shutdown thought -11.680040317\n",
      "Shutdown times -11.680040317\n",
      "Shutdown told -11.680040317\n",
      "Shutdown took -11.680040317\n",
      "Shutdown town -11.680040317\n",
      "Shutdown tried -11.680040317\n",
      "Shutdown try -11.680040317\n",
      "Shutdown used -11.680040317\n",
      "Shutdown usually -11.680040317\n",
      "Shutdown ve -11.680040317\n",
      "Shutdown visit -11.680040317\n",
      "Shutdown wait -11.680040317\n",
      "Shutdown want -11.680040317\n",
      "Shutdown wanted -11.680040317\n",
      "Shutdown wasn -11.680040317\n",
      "Shutdown way -11.680040317\n",
      "Shutdown went -11.680040317\n",
      "Shutdown won -11.680040317\n",
      "Shutdown work -11.680040317\n",
      "Shutdown worth -11.680040317\n",
      "Shutdown years -11.680040317\n",
      "Shutdown 10 -10.9868931365\n",
      "Shutdown time -10.9868931365\n",
      "Shutdown things -9.88828084779\n"
     ]
    }
   ],
   "source": [
    "most_informative_feature_for_class(cv, classifier, 'Shutdown')"
   ]
  },
  {
   "cell_type": "code",
   "execution_count": 16,
   "metadata": {
    "collapsed": false,
    "scrolled": false
   },
   "outputs": [
    {
     "data": {
      "text/plain": [
       "['10',\n",
       " 'actually',\n",
       " 'amazing',\n",
       " 'area',\n",
       " 'ask',\n",
       " 'asked',\n",
       " 'atmosphere',\n",
       " 'away',\n",
       " 'awesome',\n",
       " 'bad',\n",
       " 'bar',\n",
       " 'best',\n",
       " 'better',\n",
       " 'big',\n",
       " 'bit',\n",
       " 'busy',\n",
       " 'came',\n",
       " 'check',\n",
       " 'cheese',\n",
       " 'chicken',\n",
       " 'clean',\n",
       " 'close',\n",
       " 'come',\n",
       " 'coming',\n",
       " 'cooked',\n",
       " 'couple',\n",
       " 'customer',\n",
       " 'day',\n",
       " 'decent',\n",
       " 'decided',\n",
       " 'definitely',\n",
       " 'delicious',\n",
       " 'did',\n",
       " 'didn',\n",
       " 'different',\n",
       " 'dinner',\n",
       " 'disappointed',\n",
       " 'don',\n",
       " 'drink',\n",
       " 'drinks',\n",
       " 'eat',\n",
       " 'eating',\n",
       " 'especially',\n",
       " 'excellent',\n",
       " 'experience',\n",
       " 'far',\n",
       " 'fast',\n",
       " 'favorite',\n",
       " 'feel',\n",
       " 'flavor',\n",
       " 'food',\n",
       " 'fresh',\n",
       " 'fried',\n",
       " 'friend',\n",
       " 'friendly',\n",
       " 'friends',\n",
       " 'getting',\n",
       " 'going',\n",
       " 'good',\n",
       " 'got',\n",
       " 'great',\n",
       " 'half',\n",
       " 'happy',\n",
       " 'hard',\n",
       " 'home',\n",
       " 'hot',\n",
       " 'huge',\n",
       " 'inside',\n",
       " 'just',\n",
       " 'kind',\n",
       " 'know',\n",
       " 'large',\n",
       " 'left',\n",
       " 'let',\n",
       " 'like',\n",
       " 'little',\n",
       " 'll',\n",
       " 'location',\n",
       " 'long',\n",
       " 'look',\n",
       " 'looked',\n",
       " 'looking',\n",
       " 'lot',\n",
       " 'love',\n",
       " 'lunch',\n",
       " 'make',\n",
       " 'maybe',\n",
       " 'meal',\n",
       " 'meat',\n",
       " 'menu',\n",
       " 'minutes',\n",
       " 'need',\n",
       " 'new',\n",
       " 'nice',\n",
       " 'night',\n",
       " 'ok',\n",
       " 'open',\n",
       " 'order',\n",
       " 'ordered',\n",
       " 'overall',\n",
       " 'people',\n",
       " 'perfect',\n",
       " 'place',\n",
       " 'places',\n",
       " 'pretty',\n",
       " 'pretty good',\n",
       " 'price',\n",
       " 'prices',\n",
       " 'probably',\n",
       " 'quality',\n",
       " 'quick',\n",
       " 'quite',\n",
       " 'really',\n",
       " 'really good',\n",
       " 'recommend',\n",
       " 'restaurant',\n",
       " 'review',\n",
       " 'rice',\n",
       " 'right',\n",
       " 'said',\n",
       " 'salad',\n",
       " 'sauce',\n",
       " 'say',\n",
       " 'served',\n",
       " 'service',\n",
       " 'small',\n",
       " 'special',\n",
       " 'spot',\n",
       " 'staff',\n",
       " 'star',\n",
       " 'stars',\n",
       " 'super',\n",
       " 'sure',\n",
       " 'sweet',\n",
       " 'table',\n",
       " 'taste',\n",
       " 'tasted',\n",
       " 'tasty',\n",
       " 'thing',\n",
       " 'things',\n",
       " 'think',\n",
       " 'thought',\n",
       " 'time',\n",
       " 'times',\n",
       " 'told',\n",
       " 'took',\n",
       " 'town',\n",
       " 'tried',\n",
       " 'try',\n",
       " 'used',\n",
       " 'usually',\n",
       " 've',\n",
       " 'visit',\n",
       " 'wait',\n",
       " 'want',\n",
       " 'wanted',\n",
       " 'wasn',\n",
       " 'way',\n",
       " 'went',\n",
       " 'won',\n",
       " 'work',\n",
       " 'worth',\n",
       " 'years']"
      ]
     },
     "execution_count": 16,
     "metadata": {},
     "output_type": "execute_result"
    }
   ],
   "source": [
    "cv.get_feature_names()"
   ]
  },
  {
   "cell_type": "markdown",
   "metadata": {},
   "source": [
    "# Visualization"
   ]
  },
  {
   "cell_type": "code",
   "execution_count": 17,
   "metadata": {
    "collapsed": false
   },
   "outputs": [],
   "source": [
    "from os import path\n",
    "from scipy.misc import imread\n",
    "import matplotlib.pyplot as plt\n",
    "import random\n",
    "\n",
    "from wordcloud import WordCloud\n",
    "\n",
    "text = str(cv.get_feature_names())\n",
    "wordcloud = WordCloud(font_path='/Library/Fonts/Verdana.ttf',\n",
    "                      relative_scaling = 1.0,\n",
    "                      stopwords = 'to of'\n",
    "                      ).generate(text)\n",
    "plt.imshow(wordcloud)\n",
    "plt.axis(\"off\")\n",
    "plt.show()"
   ]
  },
  {
   "cell_type": "markdown",
   "metadata": {},
   "source": [
    "Wordcloud code from: http://stackoverflow.com/questions/16645799/how-to-create-a-word-cloud-from-a-corpus-in-python"
   ]
  }
 ],
 "metadata": {
  "anaconda-cloud": {},
  "kernelspec": {
   "display_name": "Python [Root]",
   "language": "python",
   "name": "Python [Root]"
  },
  "language_info": {
   "codemirror_mode": {
    "name": "ipython",
    "version": 3
   },
   "file_extension": ".py",
   "mimetype": "text/x-python",
   "name": "python",
   "nbconvert_exporter": "python",
   "pygments_lexer": "ipython3",
   "version": "3.5.2"
  }
 },
 "nbformat": 4,
 "nbformat_minor": 0
}
