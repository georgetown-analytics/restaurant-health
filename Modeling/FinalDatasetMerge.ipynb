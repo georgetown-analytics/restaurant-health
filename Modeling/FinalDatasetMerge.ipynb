{
 "cells": [
  {
   "cell_type": "code",
   "execution_count": 3,
   "metadata": {
    "collapsed": false
   },
   "outputs": [
    {
     "name": "stderr",
     "output_type": "stream",
     "text": [
      "//anaconda/lib/python3.5/site-packages/sklearn/cross_validation.py:44: DeprecationWarning: This module was deprecated in version 0.18 in favor of the model_selection module into which all the refactored classes and functions are moved. Also note that the interface of the new CV iterators are different from that of this module. This module will be removed in 0.20.\n",
      "  \"This module will be removed in 0.20.\", DeprecationWarning)\n"
     ]
    }
   ],
   "source": [
    "%matplotlib inline\n",
    "\n",
    "import os\n",
    "import requests\n",
    "import pandas as pd \n",
    "import matplotlib.pyplot as plt\n",
    "import seaborn as sns\n",
    "import numpy as np\n",
    "import csv\n",
    "import sys\n",
    "\n",
    "from pandas.tools.plotting import scatter_matrix\n",
    "\n",
    "from sklearn import cross_validation as cv\n",
    "from sklearn.cross_validation import train_test_split as tts\n",
    "from sklearn.linear_model import Ridge\n",
    "from sklearn.linear_model import RandomizedLasso\n",
    "from sklearn.linear_model import LinearRegression\n",
    "from sklearn.ensemble import RandomForestRegressor\n",
    "from sklearn.linear_model import Lasso\n",
    "from sklearn.metrics import r2_score\n",
    "from sklearn.metrics import mean_squared_error as mse\n",
    "from sklearn.cross_validation import cross_val_predict\n",
    "from sklearn.preprocessing import PolynomialFeatures\n",
    "from sklearn.pipeline import Pipeline\n",
    "from sklearn.cross_validation import cross_val_score\n",
    "from sklearn.pipeline import FeatureUnion\n",
    "from sklearn import preprocessing\n",
    "from sklearn import linear_model\n",
    "from sklearn.decomposition import PCA\n",
    "from sklearn.covariance import EllipticEnvelope\n",
    "from sklearn.feature_selection import SelectKBest\n",
    "from sklearn.feature_selection import chi2\n",
    "from sklearn.ensemble import IsolationForest\n",
    "\n",
    "csv.field_size_limit(sys.maxsize)\n",
    "\n",
    "reviews = \"/Users/skhederian/restaurant-health/format_reviews.csv\"\n",
    "data = \"/Users/skhederian/restaurant-health/the_final_countdown.csv\"\n",
    "\n",
    "dfr = pd.read_csv(reviews)\n",
    "dfd = pd.read_csv(data)"
   ]
  },
  {
   "cell_type": "markdown",
   "metadata": {},
   "source": [
    "# Predict Violation Bin from Review Text"
   ]
  },
  {
   "cell_type": "code",
   "execution_count": 18,
   "metadata": {
    "collapsed": false
   },
   "outputs": [
    {
     "data": {
      "text/plain": [
       "(20377, 5)"
      ]
     },
     "execution_count": 18,
     "metadata": {},
     "output_type": "execute_result"
    }
   ],
   "source": [
    "#Drop NaN Violations\n",
    "dfreview = dfr.dropna(how = 'any').copy()\n",
    "dfreview.shape"
   ]
  },
  {
   "cell_type": "code",
   "execution_count": 38,
   "metadata": {
    "collapsed": false
   },
   "outputs": [],
   "source": [
    "#Load our Pickle Classifier\n",
    "from sklearn.externals import joblib\n",
    "\n",
    "filename = 'class.pkl'\n",
    "clf = joblib.load(filename) "
   ]
  },
  {
   "cell_type": "code",
   "execution_count": 40,
   "metadata": {
    "collapsed": false
   },
   "outputs": [
    {
     "data": {
      "text/plain": [
       "(20377,)"
      ]
     },
     "execution_count": 40,
     "metadata": {},
     "output_type": "execute_result"
    }
   ],
   "source": [
    "predict = clf.predict(dfreview['string_agg'].values)\n",
    "predict.shape"
   ]
  },
  {
   "cell_type": "code",
   "execution_count": 44,
   "metadata": {
    "collapsed": false
   },
   "outputs": [],
   "source": [
    "dfreview['predictions'] = predict"
   ]
  },
  {
   "cell_type": "code",
   "execution_count": 45,
   "metadata": {
    "collapsed": false
   },
   "outputs": [
    {
     "data": {
      "text/html": [
       "<div>\n",
       "<table border=\"1\" class=\"dataframe\">\n",
       "  <thead>\n",
       "    <tr style=\"text-align: right;\">\n",
       "      <th></th>\n",
       "      <th>business_id</th>\n",
       "      <th>from_date</th>\n",
       "      <th>thru_date</th>\n",
       "      <th>violations</th>\n",
       "      <th>string_agg</th>\n",
       "      <th>predictions</th>\n",
       "    </tr>\n",
       "  </thead>\n",
       "  <tbody>\n",
       "    <tr>\n",
       "      <th>0</th>\n",
       "      <td>--pOlFxITWnhzc7SHSIP0A</td>\n",
       "      <td>2013-04-04</td>\n",
       "      <td>2013-07-29</td>\n",
       "      <td>9.0</td>\n",
       "      <td>My group of four visited tonight for the first...</td>\n",
       "      <td>Perfect</td>\n",
       "    </tr>\n",
       "    <tr>\n",
       "      <th>1</th>\n",
       "      <td>--pOlFxITWnhzc7SHSIP0A</td>\n",
       "      <td>2013-07-30</td>\n",
       "      <td>2013-10-29</td>\n",
       "      <td>12.0</td>\n",
       "      <td>My husband and I  recently ate dinner here for...</td>\n",
       "      <td>Perfect</td>\n",
       "    </tr>\n",
       "    <tr>\n",
       "      <th>2</th>\n",
       "      <td>--pOlFxITWnhzc7SHSIP0A</td>\n",
       "      <td>2013-10-30</td>\n",
       "      <td>2014-03-19</td>\n",
       "      <td>9.0</td>\n",
       "      <td>Our waiter Chris was excellent!!!!!!!!!! My bu...</td>\n",
       "      <td>Perfect</td>\n",
       "    </tr>\n",
       "    <tr>\n",
       "      <th>3</th>\n",
       "      <td>--pOlFxITWnhzc7SHSIP0A</td>\n",
       "      <td>2014-03-20</td>\n",
       "      <td>2014-06-11</td>\n",
       "      <td>6.0</td>\n",
       "      <td>I would like to Thank the staff at Block and G...</td>\n",
       "      <td>Excellent</td>\n",
       "    </tr>\n",
       "    <tr>\n",
       "      <th>4</th>\n",
       "      <td>--pOlFxITWnhzc7SHSIP0A</td>\n",
       "      <td>2014-06-12</td>\n",
       "      <td>2014-09-17</td>\n",
       "      <td>3.0</td>\n",
       "      <td>Pork Belly appetizer was to die for!  A little...</td>\n",
       "      <td>Perfect</td>\n",
       "    </tr>\n",
       "  </tbody>\n",
       "</table>\n",
       "</div>"
      ],
      "text/plain": [
       "              business_id   from_date   thru_date  violations  \\\n",
       "0  --pOlFxITWnhzc7SHSIP0A  2013-04-04  2013-07-29         9.0   \n",
       "1  --pOlFxITWnhzc7SHSIP0A  2013-07-30  2013-10-29        12.0   \n",
       "2  --pOlFxITWnhzc7SHSIP0A  2013-10-30  2014-03-19         9.0   \n",
       "3  --pOlFxITWnhzc7SHSIP0A  2014-03-20  2014-06-11         6.0   \n",
       "4  --pOlFxITWnhzc7SHSIP0A  2014-06-12  2014-09-17         3.0   \n",
       "\n",
       "                                          string_agg predictions  \n",
       "0  My group of four visited tonight for the first...     Perfect  \n",
       "1  My husband and I  recently ate dinner here for...     Perfect  \n",
       "2  Our waiter Chris was excellent!!!!!!!!!! My bu...     Perfect  \n",
       "3  I would like to Thank the staff at Block and G...   Excellent  \n",
       "4  Pork Belly appetizer was to die for!  A little...     Perfect  "
      ]
     },
     "execution_count": 45,
     "metadata": {},
     "output_type": "execute_result"
    }
   ],
   "source": [
    "dfreview.head()"
   ]
  },
  {
   "cell_type": "markdown",
   "metadata": {},
   "source": [
    "# Merge Data and Review DFs"
   ]
  },
  {
   "cell_type": "code",
   "execution_count": 51,
   "metadata": {
    "collapsed": false
   },
   "outputs": [],
   "source": [
    "df = dfreview.replace('2999-12-31','2017-01-01')"
   ]
  },
  {
   "cell_type": "code",
   "execution_count": 53,
   "metadata": {
    "collapsed": true
   },
   "outputs": [],
   "source": [
    "df.rename(columns = {'--business_id':'_id'}, inplace = True)"
   ]
  },
  {
   "cell_type": "code",
   "execution_count": 54,
   "metadata": {
    "collapsed": false
   },
   "outputs": [
    {
     "name": "stderr",
     "output_type": "stream",
     "text": [
      "//anaconda/lib/python3.5/site-packages/ipykernel/__main__.py:1: FutureWarning: the coerce=True keyword is deprecated, use errors='coerce' instead\n",
      "  if __name__ == '__main__':\n",
      "//anaconda/lib/python3.5/site-packages/ipykernel/__main__.py:2: FutureWarning: the coerce=True keyword is deprecated, use errors='coerce' instead\n",
      "  from ipykernel import kernelapp as app\n"
     ]
    }
   ],
   "source": [
    "df['thru_date'] = pd.to_datetime(df['thru_date'], coerce=True)\n",
    "dfd['inspection_date'] = pd.to_datetime(dfd['inspection_date'], coerce=True)\n",
    "df['inspection_date'] = pd.DatetimeIndex(df['thru_date']) + pd.DateOffset(1)"
   ]
  },
  {
   "cell_type": "code",
   "execution_count": 55,
   "metadata": {
    "collapsed": true
   },
   "outputs": [],
   "source": [
    "finaldf = pd.merge(dfd, df, on=['business_id', 'inspection_date'], how='inner')"
   ]
  },
  {
   "cell_type": "code",
   "execution_count": 57,
   "metadata": {
    "collapsed": false
   },
   "outputs": [
    {
     "data": {
      "text/plain": [
       "(18879, 73)"
      ]
     },
     "execution_count": 57,
     "metadata": {},
     "output_type": "execute_result"
    }
   ],
   "source": [
    "finaldf.shape"
   ]
  },
  {
   "cell_type": "markdown",
   "metadata": {},
   "source": [
    "# Encode Predicted Violations Column"
   ]
  },
  {
   "cell_type": "code",
   "execution_count": 59,
   "metadata": {
    "collapsed": false
   },
   "outputs": [
    {
     "data": {
      "text/plain": [
       "array([10,  5, 15, 20, 30, 40])"
      ]
     },
     "execution_count": 59,
     "metadata": {},
     "output_type": "execute_result"
    }
   ],
   "source": [
    "group_names = {'Perfect':5, 'Excellent':10, 'Great':15, 'Good':20, 'Bad':25, 'Very Bad':30, 'rats':35, 'Shutdown':40}\n",
    "\n",
    "finaldf.predictions = finaldf.predictions.map(group_names)\n",
    "finaldf.predictions.unique()"
   ]
  },
  {
   "cell_type": "code",
   "execution_count": 62,
   "metadata": {
    "collapsed": false
   },
   "outputs": [],
   "source": [
    "finaldf.to_csv('pickles.csv')"
   ]
  },
  {
   "cell_type": "markdown",
   "metadata": {},
   "source": [
    "Now feed this into our regression models!"
   ]
  }
 ],
 "metadata": {
  "kernelspec": {
   "display_name": "Python [Root]",
   "language": "python",
   "name": "Python [Root]"
  },
  "language_info": {
   "codemirror_mode": {
    "name": "ipython",
    "version": 3
   },
   "file_extension": ".py",
   "mimetype": "text/x-python",
   "name": "python",
   "nbconvert_exporter": "python",
   "pygments_lexer": "ipython3",
   "version": "3.5.2"
  }
 },
 "nbformat": 4,
 "nbformat_minor": 0
}
