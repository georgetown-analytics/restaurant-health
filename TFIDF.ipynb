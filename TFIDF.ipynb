{
 "cells": [
  {
   "cell_type": "markdown",
   "metadata": {},
   "source": [
    "# Term Frequency - Inverse Document Frequency (TF-IDF)"
   ]
  },
  {
   "cell_type": "code",
   "execution_count": 37,
   "metadata": {
    "collapsed": false
   },
   "outputs": [],
   "source": [
    "from collections import defaultdict\n",
    "import csv\n",
    "import sys\n",
    "csv.field_size_limit(sys.maxsize)\n",
    "\n",
    "data = \"/Users/skhederian/restaurant-health/format_reviews.csv\"\n",
    "\n",
    "#Combine reviews with the same violation count into the same document\n",
    "reviews = defaultdict(list)\n",
    "with open(data, \"r\") as review_file:\n",
    "    reader = csv.reader(review_file, delimiter=',')\n",
    "    next(reader)\n",
    "    for row in reader:\n",
    "        reviews[row[3]].append(row[4])\n",
    "        \n",
    "for violations, string_agg in reviews.items():\n",
    "    reviews[violations] = \"\".join(string_agg)\n",
    "\n",
    "#Append documents to corpus\n",
    "corpus = []\n",
    "\n",
    "for id, review in reviews.items():\n",
    "    corpus.append(review)"
   ]
  },
  {
   "cell_type": "code",
   "execution_count": 50,
   "metadata": {
    "collapsed": false
   },
   "outputs": [],
   "source": [
    "#Import vectorizer with unigrams and 2 or 3-word phrases\n",
    "from sklearn.feature_extraction.text import TfidfVectorizer\n",
    "tf = TfidfVectorizer(analyzer='word', ngram_range=(1,3), min_df = .25, stop_words = 'english')"
   ]
  },
  {
   "cell_type": "code",
   "execution_count": 51,
   "metadata": {
    "collapsed": false
   },
   "outputs": [],
   "source": [
    "#Fit to our corpus\n",
    "tfidf_matrix =  tf.fit_transform(corpus)\n",
    "feature_names = tf.get_feature_names() "
   ]
  },
  {
   "cell_type": "code",
   "execution_count": 52,
   "metadata": {
    "collapsed": false
   },
   "outputs": [
    {
     "data": {
      "text/plain": [
       "<63x23388 sparse matrix of type '<class 'numpy.float64'>'\n",
       "\twith 471677 stored elements in Compressed Sparse Row format>"
      ]
     },
     "execution_count": 52,
     "metadata": {},
     "output_type": "execute_result"
    }
   ],
   "source": [
    "#63 documents with 18,934,205 unique features (min_df=0) or 23,388 features (min_df=.25)\n",
    "tfidf_matrix"
   ]
  },
  {
   "cell_type": "code",
   "execution_count": 48,
   "metadata": {
    "collapsed": false
   },
   "outputs": [
    {
     "data": {
      "text/plain": [
       "18934205"
      ]
     },
     "execution_count": 48,
     "metadata": {},
     "output_type": "execute_result"
    }
   ],
   "source": [
    "dense = tfidf_matrix.todense()\n",
    "len(dense[0].tolist()[0])"
   ]
  },
  {
   "cell_type": "code",
   "execution_count": 43,
   "metadata": {
    "collapsed": true
   },
   "outputs": [],
   "source": [
    "review = dense[0].tolist()[0]\n",
    "phrase_scores = [pair for pair in zip(range(0, len(review)), review) if pair[1] > 0]"
   ]
  },
  {
   "cell_type": "code",
   "execution_count": 44,
   "metadata": {
    "collapsed": false
   },
   "outputs": [
    {
     "data": {
      "text/plain": [
       "6097385"
      ]
     },
     "execution_count": 44,
     "metadata": {},
     "output_type": "execute_result"
    }
   ],
   "source": [
    "len(phrase_scores)"
   ]
  },
  {
   "cell_type": "code",
   "execution_count": 46,
   "metadata": {
    "collapsed": false
   },
   "outputs": [
    {
     "name": "stdout",
     "output_type": "stream",
     "text": [
      "good                 0.27642277580659774\n",
      "food                 0.2751819664463293\n",
      "place                0.2627337531021071\n",
      "great                0.19200194876901963\n",
      "like                 0.18933972577643401\n",
      "just                 0.17149422005262743\n",
      "really               0.14411414126020586\n",
      "service              0.14001383115339852\n",
      "time                 0.1297836945976781\n",
      "ve                   0.11036372515014335\n",
      "bar                  0.1101007121618974\n",
      "restaurant           0.10430854776831745\n",
      "menu                 0.0993997095618625\n",
      "got                  0.09593945648757572\n",
      "little               0.09273507588494441\n",
      "don                  0.09259440940696709\n",
      "nice                 0.09092918032390895\n",
      "ordered              0.09087724156779775\n",
      "chicken              0.08909425444152475\n",
      "night                0.08872113360609017\n"
     ]
    }
   ],
   "source": [
    "#features from the first document with the highest scores\n",
    "sorted_phrase_scores = sorted(phrase_scores, key=lambda t: t[1] * -1)\n",
    "for phrase, score in [(feature_names[word_id], score) for (word_id, score) in sorted_phrase_scores][:20]:\n",
    "   print('{0: <20} {1}'.format(phrase, score))"
   ]
  },
  {
   "cell_type": "markdown",
   "metadata": {},
   "source": [
    "Coding reference from http://www.markhneedham.com/blog/2015/02/15/pythonscikit-learn-calculating-tfidf-on-how-i-met-your-mother-transcripts/"
   ]
  },
  {
   "cell_type": "code",
   "execution_count": null,
   "metadata": {
    "collapsed": true
   },
   "outputs": [],
   "source": []
  }
 ],
 "metadata": {
  "anaconda-cloud": {},
  "kernelspec": {
   "display_name": "Python [Root]",
   "language": "python",
   "name": "Python [Root]"
  },
  "language_info": {
   "codemirror_mode": {
    "name": "ipython",
    "version": 3
   },
   "file_extension": ".py",
   "mimetype": "text/x-python",
   "name": "python",
   "nbconvert_exporter": "python",
   "pygments_lexer": "ipython3",
   "version": "3.5.2"
  }
 },
 "nbformat": 4,
 "nbformat_minor": 0
}
