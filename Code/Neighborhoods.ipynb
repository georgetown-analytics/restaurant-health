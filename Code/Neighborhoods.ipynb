{
 "cells": [
  {
   "cell_type": "code",
   "execution_count": 1,
   "metadata": {
    "collapsed": false
   },
   "outputs": [],
   "source": [
    "import pandas as pd\n",
    "df = pd.read_csv('the_final_countdown.csv', sep=\",\", encoding = 'utf-8', engine = 'python')"
   ]
  },
  {
   "cell_type": "code",
   "execution_count": 2,
   "metadata": {
    "collapsed": false
   },
   "outputs": [],
   "source": [
    "#list of neighborhoods\n",
    "distinctneighborhoods = ['Downtown',\n",
    "'Waterfront',\n",
    "'North End',\n",
    "'Financial District',\n",
    "'Charlestown',\n",
    "'Back Bay',\n",
    "'East Boston',\n",
    "'Allston/Brighton',\n",
    "'Leather District',\n",
    "'South Boston',\n",
    "'Dorchester',\n",
    "'South End',\n",
    "'Beacon Hill',\n",
    "'Fenway',\n",
    "'Hyde Park',\n",
    "'Mission Hill',\n",
    "'West Roxbury',\n",
    "'Roslindale',\n",
    "'Fields Corner',\n",
    "'West Roxbury Center',\n",
    "'Dudley Square',\n",
    "'Chinatown',\n",
    "'Jamaica Plain',\n",
    "'Roslindale Village',\n",
    "'Uphams Corner',\n",
    "'Mattapan',\n",
    "'Egleston Square',\n",
    "'First Ward',\n",
    "'Third Ward',\n",
    "'Arboretum',\n",
    "'University City',\n",
    "'Fourth Ward',\n",
    "'Uptown',\n",
    "'Elizabeth',\n",
    "'Myers Park',\n",
    "'Steele Creek',\n",
    "'South End',\n",
    "'Dilworth',\n",
    "'Ballantyne',\n",
    "'Starmount',\n",
    "'NoDa',\n",
    "'Plaza Midwood',\n",
    "'Derita',\n",
    "'Eastland',\n",
    "'South Park',\n",
    "'Biddleville',\n",
    "'Highland Creek',\n",
    "'Sedgefield',\n",
    "'Villa Heights',\n",
    "'North Charlotte',\n",
    "'Cotswold',\n",
    "'Sherwood Forest',\n",
    "'Eastland',\n",
    "'Paw Creek',\n",
    "'Sunrise',\n",
    "'Westside',\n",
    "'Summerlin',\n",
    "'Northwest',\n",
    "'Spring Valley',\n",
    "'Anthem',\n",
    "'Southeast',\n",
    "'Southwest',\n",
    "'South Summerlin',\n",
    "'University',\n",
    "'Downtown',\n",
    "'Eastside',\n",
    "'The Lakes',\n",
    "'The Strip',\n",
    "'Chinatown',\n",
    "'Centennial']\n",
    "\n",
    "\n",
    "\n",
    "    \n"
   ]
  },
  {
   "cell_type": "code",
   "execution_count": 8,
   "metadata": {
    "collapsed": false
   },
   "outputs": [
    {
     "data": {
      "text/plain": [
       "'[\"Uptown\"]'"
      ]
     },
     "execution_count": 8,
     "metadata": {},
     "output_type": "execute_result"
    }
   ],
   "source": [
    "df.iloc[100,13]"
   ]
  },
  {
   "cell_type": "code",
   "execution_count": 9,
   "metadata": {
    "collapsed": true
   },
   "outputs": [],
   "source": [
    "neighborhoods = []\n",
    "\n",
    "def getneighbor(z):\n",
    "    for i in range(len(df)):\n",
    "        y = 0\n",
    "        for x in z:\n",
    "            if x in df.iloc[i,13]:\n",
    "                neighborhoods.append(x)\n",
    "                break\n",
    "            else:\n",
    "                y+=1\n",
    "                if y == len(z):                    \n",
    "                    neighborhoods.append('none')\n",
    "                    \n",
    "    return neighborhoods"
   ]
  },
  {
   "cell_type": "code",
   "execution_count": 10,
   "metadata": {
    "collapsed": false
   },
   "outputs": [],
   "source": [
    "getneighbor(distinctneighborhoods)\n",
    "neighborhoods = pd.Series(neighborhoods)\n",
    "df['Neighborhoods'] = neighborhoods.values"
   ]
  },
  {
   "cell_type": "code",
   "execution_count": 11,
   "metadata": {
    "collapsed": false
   },
   "outputs": [
    {
     "data": {
      "text/plain": [
       "66674"
      ]
     },
     "execution_count": 11,
     "metadata": {},
     "output_type": "execute_result"
    }
   ],
   "source": [
    "len(neighborhoods)"
   ]
  },
  {
   "cell_type": "code",
   "execution_count": null,
   "metadata": {
    "collapsed": true
   },
   "outputs": [],
   "source": []
  },
  {
   "cell_type": "code",
   "execution_count": null,
   "metadata": {
    "collapsed": true
   },
   "outputs": [],
   "source": [
    "downtown = []\n",
    "chinatown = []\n",
    "\n",
    "for i in range(len(df)):\n",
    "    if \"Downtown\" in df.iloc[i,13] and '1' in df.iloc[i,6]:\n",
    "        downtown.append('Downtown Boston')\n",
    "        break\n",
    "    else:\n",
    "        downtown.append('Downtown Las Vegas')\n",
    "\n",
    "for i in range (len(df)):\n",
    "    if \"Chinatown\" in df.iloc[i,13] and '1' in df.iloc[i,5]:\n",
    "        chinatown.append('Chinatown Boston')\n",
    "        break\n",
    "    else: \n",
    "        chinatown.append('Chinatown ')"
   ]
  }
 ],
 "metadata": {
  "anaconda-cloud": {},
  "kernelspec": {
   "display_name": "Python [Root]",
   "language": "python",
   "name": "Python [Root]"
  },
  "language_info": {
   "codemirror_mode": {
    "name": "ipython",
    "version": 3
   },
   "file_extension": ".py",
   "mimetype": "text/x-python",
   "name": "python",
   "nbconvert_exporter": "python",
   "pygments_lexer": "ipython3",
   "version": "3.5.2"
  }
 },
 "nbformat": 4,
 "nbformat_minor": 0
}
