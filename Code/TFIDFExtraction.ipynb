{
 "cells": [
  {
   "cell_type": "markdown",
   "metadata": {},
   "source": [
    "# Term Frequency - Inverse Document Frequency (TF-IDF)"
   ]
  },
  {
   "cell_type": "code",
   "execution_count": 3,
   "metadata": {
    "collapsed": false
   },
   "outputs": [],
   "source": [
    "from collections import defaultdict\n",
    "import csv\n",
    "import sys\n",
    "csv.field_size_limit(sys.maxsize)\n",
    "\n",
    "data = \"/Users/skhederian/restaurant-health/format_reviews.csv\"\n",
    "\n",
    "#Combine reviews with the same violation count into the same document\n",
    "reviews = defaultdict(list)\n",
    "with open(data, \"r\") as review_file:\n",
    "    reader = csv.reader(review_file, delimiter=',')\n",
    "    next(reader)\n",
    "    for row in reader:\n",
    "        reviews[row[3]].append(row[4])\n",
    "        \n",
    "for violations, string_agg in reviews.items():\n",
    "    reviews[violations] = \"\".join(string_agg)\n",
    "\n",
    "#Append documents to corpus\n",
    "corpus = []\n",
    "\n",
    "for id, review in reviews.items():\n",
    "    corpus.append(review)"
   ]
  },
  {
   "cell_type": "code",
   "execution_count": 13,
   "metadata": {
    "collapsed": false
   },
   "outputs": [],
   "source": [
    "#Import vectorizer with unigrams and 2 or 3-word phrases\n",
    "from sklearn.feature_extraction.text import TfidfVectorizer\n",
    "tf = TfidfVectorizer(analyzer='word', ngram_range=(1,3), min_df = .25, stop_words='english')\n",
    "tf2 = TfidfVectorizer(min_df=0)"
   ]
  },
  {
   "cell_type": "code",
   "execution_count": 14,
   "metadata": {
    "collapsed": false
   },
   "outputs": [],
   "source": [
    "#Fit to our corpus\n",
    "tfidf_matrix =  tf.fit_transform(corpus)\n",
    "tfidf_matrixfull = tf2.fit_transform(corpus)\n",
    "feature_names = tf.get_feature_names() "
   ]
  },
  {
   "cell_type": "code",
   "execution_count": 15,
   "metadata": {
    "collapsed": false
   },
   "outputs": [
    {
     "data": {
      "text/plain": [
       "<63x23388 sparse matrix of type '<class 'numpy.float64'>'\n",
       "\twith 471677 stored elements in Compressed Sparse Row format>"
      ]
     },
     "execution_count": 15,
     "metadata": {},
     "output_type": "execute_result"
    }
   ],
   "source": [
    "tfidf_matrix"
   ]
  },
  {
   "cell_type": "code",
   "execution_count": 16,
   "metadata": {
    "collapsed": false
   },
   "outputs": [
    {
     "data": {
      "text/plain": [
       "<63x136973 sparse matrix of type '<class 'numpy.float64'>'\n",
       "\twith 552819 stored elements in Compressed Sparse Row format>"
      ]
     },
     "execution_count": 16,
     "metadata": {},
     "output_type": "execute_result"
    }
   ],
   "source": [
    "tfidf_matrixfull"
   ]
  },
  {
   "cell_type": "code",
   "execution_count": 17,
   "metadata": {
    "collapsed": false
   },
   "outputs": [
    {
     "data": {
      "text/plain": [
       "23388"
      ]
     },
     "execution_count": 17,
     "metadata": {},
     "output_type": "execute_result"
    }
   ],
   "source": [
    "dense = tfidf_matrix.todense()\n",
    "len(dense[0].tolist()[0])"
   ]
  },
  {
   "cell_type": "code",
   "execution_count": 18,
   "metadata": {
    "collapsed": true
   },
   "outputs": [],
   "source": [
    "review = dense[0].tolist()[0]\n",
    "phrase_scores = [pair for pair in zip(range(0, len(review)), review) if pair[1] > 0]"
   ]
  },
  {
   "cell_type": "code",
   "execution_count": 19,
   "metadata": {
    "collapsed": false
   },
   "outputs": [
    {
     "data": {
      "text/plain": [
       "23367"
      ]
     },
     "execution_count": 19,
     "metadata": {},
     "output_type": "execute_result"
    }
   ],
   "source": [
    "len(phrase_scores)"
   ]
  },
  {
   "cell_type": "code",
   "execution_count": 20,
   "metadata": {
    "collapsed": false
   },
   "outputs": [
    {
     "name": "stdout",
     "output_type": "stream",
     "text": [
      "good                 0.26332838123853636\n",
      "place                0.2555399228687619\n",
      "food                 0.25027731167790174\n",
      "great                0.19172679110444524\n",
      "like                 0.18432688913648937\n",
      "just                 0.17236678773002492\n",
      "really               0.14237047597845381\n",
      "service              0.13759250495524905\n",
      "time                 0.13158220912438298\n",
      "boston               0.13050217059133756\n",
      "bar                  0.12038484170927376\n",
      "ve                   0.11027730703240032\n",
      "got                  0.10250640185996204\n",
      "restaurant           0.1008494243486718\n",
      "don                  0.09496081361608513\n",
      "delicious            0.09436801224695833\n",
      "best                 0.09352482334027934\n",
      "nice                 0.09331912263082309\n",
      "lobster              0.0932762268184481\n",
      "little               0.09152074628493059\n"
     ]
    }
   ],
   "source": [
    "#features from the first document with the highest scores\n",
    "sorted_phrase_scores = sorted(phrase_scores, key=lambda t: t[1] * -1)\n",
    "for phrase, score in [(feature_names[word_id], score) for (word_id, score) in sorted_phrase_scores][:20]:\n",
    "   print('{0: <20} {1}'.format(phrase, score))"
   ]
  },
  {
   "cell_type": "markdown",
   "metadata": {},
   "source": [
    "Coding reference from http://www.markhneedham.com/blog/2015/02/15/pythonscikit-learn-calculating-tfidf-on-how-i-met-your-mother-transcripts/"
   ]
  }
 ],
 "metadata": {
  "anaconda-cloud": {},
  "kernelspec": {
   "display_name": "Python [Root]",
   "language": "python",
   "name": "Python [Root]"
  },
  "language_info": {
   "codemirror_mode": {
    "name": "ipython",
    "version": 3
   },
   "file_extension": ".py",
   "mimetype": "text/x-python",
   "name": "python",
   "nbconvert_exporter": "python",
   "pygments_lexer": "ipython3",
   "version": "3.5.2"
  }
 },
 "nbformat": 4,
 "nbformat_minor": 0
}
