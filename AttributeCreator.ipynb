{
 "cells": [
  {
   "cell_type": "code",
   "execution_count": 1,
   "metadata": {
    "collapsed": true
   },
   "outputs": [],
   "source": [
    "import pandas as pd\n",
    "df = pd.read_csv('/Users/skhederian/restaurant-health/the_final_countdown.csv', sep=\",\", encoding = 'utf-8', engine = 'python')"
   ]
  },
  {
   "cell_type": "code",
   "execution_count": 2,
   "metadata": {
    "collapsed": false
   },
   "outputs": [],
   "source": [
    "#new attributes\n",
    "alcohol = []\n",
    "delivery = []\n",
    "dogsallowed = []\n",
    "smoking = []\n",
    "goodforkids = []\n",
    "outdoorseating = []\n",
    "waiterservice = []\n",
    "creditcards = []\n",
    "pricerange = []\n",
    "drivethru = []\n",
    "tourist = []\n",
    "classy = []\n",
    "hipster = []\n",
    "latenight = []\n",
    "upscale = []\n",
    "divey =[]\n"
   ]
  },
  {
   "cell_type": "code",
   "execution_count": 3,
   "metadata": {
    "collapsed": false
   },
   "outputs": [],
   "source": [
    "for i in range(len(df)):\n",
    "    if '\"Alcohol\":\"full_bar\"' in df.iloc[i,12]:\n",
    "        alcohol.append(1)\n",
    "    elif '\"Alcohol\":\"wine_and_beer\"' in df.iloc[i,12]:\n",
    "        alcohol.append(1)\n",
    "    else:\n",
    "        alcohol.append(0)"
   ]
  },
  {
   "cell_type": "code",
   "execution_count": 4,
   "metadata": {
    "collapsed": true
   },
   "outputs": [],
   "source": [
    "for i in range(len(df)):\n",
    "    if '\"Delivery\":true' in df.iloc[i,12]:\n",
    "        delivery.append(1)\n",
    "    else:\n",
    "        delivery.append(0)"
   ]
  },
  {
   "cell_type": "code",
   "execution_count": 5,
   "metadata": {
    "collapsed": true
   },
   "outputs": [],
   "source": [
    "for i in range(len(df)):\n",
    "    if '\"touristy\":true' in df.iloc[i,12]:\n",
    "        tourist.append(1)\n",
    "    else:\n",
    "        tourist.append(0)"
   ]
  },
  {
   "cell_type": "code",
   "execution_count": 6,
   "metadata": {
    "collapsed": true
   },
   "outputs": [],
   "source": [
    "for i in range(len(df)):\n",
    "    if '\"Good for Kids\":true' in df.iloc[i,12]:\n",
    "        goodforkids.append(1)\n",
    "    else:\n",
    "        goodforkids.append(0)"
   ]
  },
  {
   "cell_type": "code",
   "execution_count": 7,
   "metadata": {
    "collapsed": true
   },
   "outputs": [],
   "source": [
    "for i in range(len(df)):\n",
    "    if '\"Smoking\":\"yes\"' in df.iloc[i,12]:\n",
    "        smoking.append(1)\n",
    "    else:\n",
    "        smoking.append(0)"
   ]
  },
  {
   "cell_type": "code",
   "execution_count": 8,
   "metadata": {
    "collapsed": true
   },
   "outputs": [],
   "source": [
    "for i in range(len(df)):\n",
    "    if '\"classy\":true' in df.iloc[i,12]:\n",
    "        classy.append(1)\n",
    "    else:\n",
    "        classy.append(0)"
   ]
  },
  {
   "cell_type": "code",
   "execution_count": 9,
   "metadata": {
    "collapsed": true
   },
   "outputs": [],
   "source": [
    "for i in range(len(df)):\n",
    "    if '\"hipster\":true' in df.iloc[i,12]:\n",
    "        hipster.append(1)\n",
    "    else:\n",
    "        hipster.append(0)"
   ]
  },
  {
   "cell_type": "code",
   "execution_count": 10,
   "metadata": {
    "collapsed": true
   },
   "outputs": [],
   "source": [
    "for i in range(len(df)):\n",
    "    if '\"Waiter Service\":true' in df.iloc[i,12]:\n",
    "        waiterservice.append(1)\n",
    "    else:\n",
    "        waiterservice.append(0)"
   ]
  },
  {
   "cell_type": "code",
   "execution_count": 11,
   "metadata": {
    "collapsed": true
   },
   "outputs": [],
   "source": [
    "for i in range(len(df)):\n",
    "    if '\"Outdoor Seating\":true' in df.iloc[i,12]:\n",
    "        outdoorseating.append(1)\n",
    "    else:\n",
    "        outdoorseating.append(0)"
   ]
  },
  {
   "cell_type": "code",
   "execution_count": 12,
   "metadata": {
    "collapsed": true
   },
   "outputs": [],
   "source": [
    "for i in range(len(df)):\n",
    "    if '\"latenight\":true' in df.iloc[i,12]:\n",
    "        latenight.append(1)\n",
    "    else:\n",
    "        latenight.append(0)"
   ]
  },
  {
   "cell_type": "code",
   "execution_count": 13,
   "metadata": {
    "collapsed": true
   },
   "outputs": [],
   "source": [
    "for i in range(len(df)):\n",
    "    if '\"upscale\":true' in df.iloc[i,12]:\n",
    "        upscale.append(1)\n",
    "    else:\n",
    "        upscale.append(0)"
   ]
  },
  {
   "cell_type": "code",
   "execution_count": 14,
   "metadata": {
    "collapsed": true
   },
   "outputs": [],
   "source": [
    "for i in range(len(df)):\n",
    "    if '\"Dogs Allowed\":true' in df.iloc[i,12]:\n",
    "        dogsallowed.append(1)\n",
    "    else:\n",
    "        dogsallowed.append(0)"
   ]
  },
  {
   "cell_type": "code",
   "execution_count": 15,
   "metadata": {
    "collapsed": true
   },
   "outputs": [],
   "source": [
    "for i in range(len(df)):\n",
    "    if '\"Drive-Thru\":true' in df.iloc[i,12]:\n",
    "        drivethru.append(1)\n",
    "    else:\n",
    "        drivethru.append(0)"
   ]
  },
  {
   "cell_type": "code",
   "execution_count": 16,
   "metadata": {
    "collapsed": false
   },
   "outputs": [],
   "source": [
    "for i in range(len(df)):\n",
    "    if '\"divey\":true' in df.iloc[i,12]:\n",
    "        divey.append(1)\n",
    "    else:\n",
    "        divey.append(0)"
   ]
  },
  {
   "cell_type": "code",
   "execution_count": 17,
   "metadata": {
    "collapsed": true
   },
   "outputs": [],
   "source": [
    "for i in range(len(df)):\n",
    "    if '\"Accepts Credit Cards\":true' in df.iloc[i,12]:\n",
    "        creditcards.append(1)\n",
    "    else:\n",
    "        creditcards.append(0)"
   ]
  },
  {
   "cell_type": "code",
   "execution_count": 18,
   "metadata": {
    "collapsed": true
   },
   "outputs": [],
   "source": [
    "for i in range(len(df)):\n",
    "    if '\"Price Range\":4' in df.iloc[i,12]:\n",
    "        pricerange.append(4)\n",
    "    elif '\"Price Range\":3' in df.iloc[i,12]:\n",
    "        pricerange.append(3)\n",
    "    elif '\"Price Range\":2' in df.iloc[i,12]:\n",
    "        pricerange.append(2)\n",
    "    elif '\"Price Range\":1' in df.iloc[i,12]:\n",
    "        pricerange.append(1)\n",
    "    else:\n",
    "        pricerange.append(0)"
   ]
  },
  {
   "cell_type": "code",
   "execution_count": 19,
   "metadata": {
    "collapsed": true
   },
   "outputs": [],
   "source": [
    "city_map = {\n",
    "    'Boston': 1, \n",
    "    'Charlestown': 1, \n",
    "    'Roxbury Crossing': 1, \n",
    "    'Dorchester': 1,\n",
    "    'East Boston': 1, \n",
    "    'Allston': 1, \n",
    "    'West Roxbury': 1, \n",
    "    'Brighton': 1, \n",
    "    'Roslindale': 1,\n",
    "    'Roxbury': 1, \n",
    "    'South Boston': 1, \n",
    "    'Hyde Park': 1, \n",
    "    'Dorchester Center': 1,\n",
    "    'Jamaica Plain': 1, \n",
    "    'Mattapan': 1, \n",
    "    'Chestnut Hill': 1,\n",
    "    'Charlotte': 2,\n",
    "    'Pineville': 2, \n",
    "    'Matthews': 2, \n",
    "    'Huntersville': 2, \n",
    "    'Mint Hill': 2,\n",
    "    'North Las Vegas': 3, \n",
    "    'Henderson': 3, \n",
    "    'Las Vegas': 3, \n",
    "    'Boulder City': 3,\n",
    "    'Casa Grande': 3, \n",
    "    'Mesa': 3, \n",
    "    'Chandler': 3, \n",
    "    'Paradise': 3, \n",
    "    'Glendale': 3,\n",
    "    'Spring Valley': 3\n",
    "}"
   ]
  },
  {
   "cell_type": "code",
   "execution_count": 20,
   "metadata": {
    "collapsed": false
   },
   "outputs": [
    {
     "data": {
      "text/plain": [
       "array([2, 3, 1])"
      ]
     },
     "execution_count": 20,
     "metadata": {},
     "output_type": "execute_result"
    }
   ],
   "source": [
    "'''encode city and neighboorhood names\n",
    "boston = 1\n",
    "charlotte = 2\n",
    "las vegas = 3 '''\n",
    "\n",
    "df.city = df.city.map(city_map)\n",
    "df.city.unique()"
   ]
  },
  {
   "cell_type": "code",
   "execution_count": 21,
   "metadata": {
    "collapsed": false
   },
   "outputs": [],
   "source": [
    "# newcolumns = [alcohol,delivery,dogsallowed,smoking,goodforkids,outdoorseating,waiterservice,creditcards,pricerange,\n",
    "# drivethru,tourist,classy,hipster,latenight,upscale,divey]\n",
    "\n",
    "# for x in newcolumns:\n",
    "#     newcol = pd.Series(x)\n",
    "#     df[x] = newcol.values"
   ]
  },
  {
   "cell_type": "code",
   "execution_count": 22,
   "metadata": {
    "collapsed": false
   },
   "outputs": [],
   "source": [
    "alcohol = pd.Series(alcohol)\n",
    "df['alcohol'] = alcohol.values\n",
    "\n",
    "delivery = pd.Series(delivery)\n",
    "df['delivery'] = delivery.values\n",
    "\n",
    "dogsallowed = pd.Series(dogsallowed)\n",
    "df['dogsallowed'] = dogsallowed.values\n",
    "\n",
    "smoking = pd.Series(smoking)\n",
    "df['smoking'] = smoking.values\n",
    "\n",
    "goodforkids = pd.Series(goodforkids)\n",
    "df['goodforkids'] = goodforkids.values\n",
    "\n",
    "outdoorseating = pd.Series(outdoorseating)\n",
    "df['outdoorseating'] = outdoorseating.values\n",
    "\n",
    "waiterservice = pd.Series(waiterservice)\n",
    "df['waiterservice'] = waiterservice.values\n",
    "\n",
    "creditcards = pd.Series(creditcards)\n",
    "df['creditcards'] = creditcards.values\n",
    "\n",
    "pricerange = pd.Series(pricerange)\n",
    "df['pricerange'] = pricerange.values\n",
    "\n",
    "drivethru = pd.Series(drivethru)\n",
    "df['drivethru'] = drivethru.values\n",
    "\n",
    "tourist = pd.Series(tourist)\n",
    "df['tourist'] = tourist.values\n",
    "\n",
    "classy = pd.Series(classy)\n",
    "df['classy'] = classy.values\n",
    "\n",
    "hipster = pd.Series(hipster)\n",
    "df['hipster'] = hipster.values\n",
    "\n",
    "latenight = pd.Series(latenight)\n",
    "df['latenight'] = latenight.values\n",
    "\n",
    "upscale = pd.Series(upscale)\n",
    "df['upscale'] = upscale.values\n",
    "\n",
    "divey = pd.Series(divey)\n",
    "df['divey'] = divey.values"
   ]
  },
  {
   "cell_type": "code",
   "execution_count": 23,
   "metadata": {
    "collapsed": false
   },
   "outputs": [
    {
     "data": {
      "text/plain": [
       "array(['Unnamed: 0', '_id', 'restaurant_name', 'address_full',\n",
       "       'business_id', 'categories', 'city', 'review_count',\n",
       "       'inspection_date', 'stars', 'latitude', 'longitude', 'attributes',\n",
       "       'open', 'neighborhoods', 'violations', 'ChangeInViolations',\n",
       "       'IsAsian', 'IsFrench', 'IsSandwiches', 'IsFastFood', 'IsBurgers',\n",
       "       'IsItalian', 'IsHawaiian', 'IsSouthern', 'IsMexican',\n",
       "       'IsLatinAmerican', 'IsMiddleEastern', 'IsGreek', 'IsAmerican',\n",
       "       'IsDonuts', 'IsIndian', 'IsSeafood', 'IsDesserts', 'IsSalad',\n",
       "       'Pizza', 'IsBuffets', 'IsSushi Bars', 'IsDelis', 'IsSports Bars',\n",
       "       'IsBakeries', 'IsPubs', 'IsCaterers', 'IsDiners', 'IsCafes',\n",
       "       'IsBars', 'alcohol', 'delivery', 'dogsallowed', 'smoking',\n",
       "       'goodforkids', 'outdoorseating', 'waiterservice', 'creditcards',\n",
       "       'pricerange', 'drivethru', 'tourist', 'classy', 'hipster',\n",
       "       'latenight', 'upscale', 'divey'], dtype=object)"
      ]
     },
     "execution_count": 23,
     "metadata": {},
     "output_type": "execute_result"
    }
   ],
   "source": [
    "df.columns.unique()"
   ]
  },
  {
   "cell_type": "code",
   "execution_count": 24,
   "metadata": {
    "collapsed": true
   },
   "outputs": [],
   "source": [
    "df.to_csv('the_final_countdown.csv')"
   ]
  },
  {
   "cell_type": "code",
   "execution_count": null,
   "metadata": {
    "collapsed": true
   },
   "outputs": [],
   "source": []
  }
 ],
 "metadata": {
  "anaconda-cloud": {},
  "kernelspec": {
   "display_name": "Python [Root]",
   "language": "python",
   "name": "Python [Root]"
  },
  "language_info": {
   "codemirror_mode": {
    "name": "ipython",
    "version": 3
   },
   "file_extension": ".py",
   "mimetype": "text/x-python",
   "name": "python",
   "nbconvert_exporter": "python",
   "pygments_lexer": "ipython3",
   "version": "3.5.2"
  }
 },
 "nbformat": 4,
 "nbformat_minor": 0
}
