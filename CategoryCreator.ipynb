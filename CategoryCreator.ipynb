{
 "cells": [
  {
   "cell_type": "code",
   "execution_count": 1,
   "metadata": {
    "collapsed": true
   },
   "outputs": [],
   "source": [
    "import pandas as pd\n",
    "df = pd.read_csv('the_final_countdown2.csv', sep=\",\", encoding = 'utf-8', engine = 'python')"
   ]
  },
  {
   "cell_type": "code",
   "execution_count": 7,
   "metadata": {
    "collapsed": false
   },
   "outputs": [],
   "source": [
    "ChangeInViolations = [0]\n",
    "\n",
    "for i in range(1,len(df)):\n",
    "    x = i\n",
    "    y = x-1\n",
    "    if df.iloc[x,1] == df.iloc[y,1]:\n",
    "        v = df.iloc[x,14] - df.iloc[y,14]\n",
    "        ChangeInViolations.append(v)\n",
    "    else:\n",
    "        ChangeInViolations.append(0)"
   ]
  },
  {
   "cell_type": "code",
   "execution_count": 8,
   "metadata": {
    "collapsed": true
   },
   "outputs": [],
   "source": [
    "ChangeInViolations = pd.Series(ChangeInViolations)\n",
    "df['ChangeInViolations'] = ChangeInViolations.values"
   ]
  },
  {
   "cell_type": "code",
   "execution_count": 9,
   "metadata": {
    "collapsed": false
   },
   "outputs": [],
   "source": [
    "Asian = ['Szechuan','Cantonese','Hot Pot','Malaysian','Shanghainese','Singaporean','Cambodian','Mongolian',\n",
    "    'Teppanyaki','Ramen','Taiwanese','Traditional Chinese','Thai','Vietnamese','Korean','Japanese','Chinese','Oriental']\n",
    "French = ['French']\n",
    "Sandwiches = ['Sandwiches']\n",
    "FastFood = ['Fast Food']\n",
    "Burgers = ['Burgers']\n",
    "Italian = ['Italian']\n",
    "Hawaiian = ['Hawaiian']\n",
    "Southern = ['Southern']\n",
    "Mexican = ['Mexican','New Mexican Cuisine']\n",
    "LatinAmerican = ['Latin-American']\n",
    "MiddleEastern = ['Middle Eastern']\n",
    "Greek = ['Greek']\n",
    "American= ['American (Traditional)','American (New)']\n",
    "Donuts = ['Donuts']\n",
    "Indian =['Indian']\n",
    "Seafood = ['Seafood']\n",
    "Desserts = ['Desserts']\n",
    "Salad = ['Salad']\n",
    "Pizza = ['Pizza']\n"
   ]
  },
  {
   "cell_type": "code",
   "execution_count": 10,
   "metadata": {
    "collapsed": true
   },
   "outputs": [],
   "source": [
    "ct = [Asian,French,Sandwiches,FastFood,Burgers,Italian,Hawaiian,Southern,Mexican,LatinAmerican,\n",
    "               MiddleEastern,Greek,American,Donuts,Indian,Seafood,Desserts,Salad,Pizza]"
   ]
  },
  {
   "cell_type": "code",
   "execution_count": 11,
   "metadata": {
    "collapsed": false
   },
   "outputs": [],
   "source": [
    "def cuisineType(z):\n",
    "    columnName = []\n",
    "    for i in range(len(df)):\n",
    "        y = 0\n",
    "        for x in z:\n",
    "            if x in df.iloc[i,4]:\n",
    "                columnName.append(1)\n",
    "                break\n",
    "            else:\n",
    "                y += 1\n",
    "                if y == len(z):\n",
    "                    columnName.append(0)\n",
    "    \n",
    "    return columnName"
   ]
  },
  {
   "cell_type": "code",
   "execution_count": 12,
   "metadata": {
    "collapsed": false
   },
   "outputs": [],
   "source": [
    "colname = 1\n",
    "for Type in ct:\n",
    "    newcol = cuisineType(Type)\n",
    "    newcol = pd.Series(newcol)\n",
    "    df[colname] = newcol.values\n",
    "    colname += 1"
   ]
  },
  {
   "cell_type": "code",
   "execution_count": 13,
   "metadata": {
    "collapsed": false
   },
   "outputs": [],
   "source": [
    "df.rename(columns ={1:\"IsAsian\",2:'IsFrench',3:'IsSandwiches',4:'IsFastFood',5:'IsBurgers',6:'IsItalian',7:'IsHawaiian',\n",
    "                   8:'IsSouthern',9:'IsMexican',10:'IsLatinAmerican',11:'IsMiddleEastern',12:'IsGreek',13:'IsAmerican',\n",
    "                   14:'IsDonuts',15:'IsIndian',16:'IsSeafood',17:'IsDesserts',18:'IsSalad',19:'Pizza'},inplace=True)"
   ]
  },
  {
   "cell_type": "code",
   "execution_count": 14,
   "metadata": {
    "collapsed": true
   },
   "outputs": [],
   "source": [
    "rt = ['Buffets','Sushi Bars','Delis','Sports Bars','Bakeries','Pubs','Caterers','Diners','Cafes','Bars']"
   ]
  },
  {
   "cell_type": "code",
   "execution_count": 15,
   "metadata": {
    "collapsed": true
   },
   "outputs": [],
   "source": [
    "def restaurantType(x):\n",
    "    restaurant = []\n",
    "    for i in range(len(df)):\n",
    "        if x in df.iloc[i,4]:\n",
    "            restaurant.append(1)\n",
    "        else:\n",
    "            restaurant.append(0)\n",
    "    \n",
    "    return restaurant"
   ]
  },
  {
   "cell_type": "code",
   "execution_count": 16,
   "metadata": {
    "collapsed": false
   },
   "outputs": [],
   "source": [
    "for Type in rt:\n",
    "    colname = 'Is'+ Type\n",
    "    newcol = restaurantType(Type)\n",
    "    newcol = pd.Series(newcol)\n",
    "    df[colname] = newcol.values"
   ]
  },
  {
   "cell_type": "code",
   "execution_count": 17,
   "metadata": {
    "collapsed": false
   },
   "outputs": [],
   "source": [
    "df.to_csv('the_final_countdown_New.csv')"
   ]
  },
  {
   "cell_type": "code",
   "execution_count": null,
   "metadata": {
    "collapsed": true
   },
   "outputs": [],
   "source": []
  },
  {
   "cell_type": "code",
   "execution_count": null,
   "metadata": {
    "collapsed": true
   },
   "outputs": [],
   "source": []
  }
 ],
 "metadata": {
  "kernelspec": {
   "display_name": "Python [Root]",
   "language": "python",
   "name": "Python [Root]"
  },
  "language_info": {
   "codemirror_mode": {
    "name": "ipython",
    "version": 3
   },
   "file_extension": ".py",
   "mimetype": "text/x-python",
   "name": "python",
   "nbconvert_exporter": "python",
   "pygments_lexer": "ipython3",
   "version": "3.5.2"
  }
 },
 "nbformat": 4,
 "nbformat_minor": 0
}
